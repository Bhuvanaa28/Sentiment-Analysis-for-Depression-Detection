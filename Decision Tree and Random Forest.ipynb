{
  "nbformat": 4,
  "nbformat_minor": 0,
  "metadata": {
    "interpreter": {
      "hash": "31f2aee4e71d21fbe5cf8b01ff0e069b9275f58929596ceb00d14d90e3e16cd6"
    },
    "kernelspec": {
      "display_name": "Python 3",
      "language": "python",
      "name": "python3"
    },
    "language_info": {
      "codemirror_mode": {
        "name": "ipython",
        "version": 3
      },
      "file_extension": ".py",
      "mimetype": "text/x-python",
      "name": "python",
      "nbconvert_exporter": "python",
      "pygments_lexer": "ipython3",
      "version": "3.5.6"
    },
    "colab": {
      "name": "Decision Tree and Random Forest.ipynb",
      "provenance": [],
      "collapsed_sections": []
    }
  },
  "cells": [
    {
      "cell_type": "markdown",
      "metadata": {
        "id": "lqZ7eyet7iq4"
      },
      "source": [
        "# FEATURE EXTRACTION"
      ]
    },
    {
      "cell_type": "code",
      "metadata": {
        "id": "_GDYPmR_7iq8"
      },
      "source": [
        "import pandas as pd\n",
        "from textblob import TextBlob"
      ],
      "execution_count": null,
      "outputs": []
    },
    {
      "cell_type": "code",
      "metadata": {
        "scrolled": true,
        "id": "SMCapIuf7iq-",
        "outputId": "1c133e96-c5d0-4640-e9fc-8f0ec87e38d2"
      },
      "source": [
        "d = pd.read_csv(\"processed_tweets.csv\")\n",
        "d = d.drop([\"Unnamed: 0\",\"index\"],axis=1)\n",
        "d = d.rename(columns={\"0\":\"Text\"})\n",
        "d.head(10)"
      ],
      "execution_count": null,
      "outputs": [
        {
          "data": {
            "text/html": [
              "<div>\n",
              "<style scoped>\n",
              "    .dataframe tbody tr th:only-of-type {\n",
              "        vertical-align: middle;\n",
              "    }\n",
              "\n",
              "    .dataframe tbody tr th {\n",
              "        vertical-align: top;\n",
              "    }\n",
              "\n",
              "    .dataframe thead th {\n",
              "        text-align: right;\n",
              "    }\n",
              "</style>\n",
              "<table border=\"1\" class=\"dataframe\">\n",
              "  <thead>\n",
              "    <tr style=\"text-align: right;\">\n",
              "      <th></th>\n",
              "      <th>Text</th>\n",
              "    </tr>\n",
              "  </thead>\n",
              "  <tbody>\n",
              "    <tr>\n",
              "      <th>0</th>\n",
              "      <td>account grow difficult keep track people activ...</td>\n",
              "    </tr>\n",
              "    <tr>\n",
              "      <th>1</th>\n",
              "      <td>release lyric video collab song bipolar sunshi...</td>\n",
              "    </tr>\n",
              "    <tr>\n",
              "      <th>2</th>\n",
              "      <td>stargalaxy genuinely cant even imagine second ...</td>\n",
              "    </tr>\n",
              "    <tr>\n",
              "      <th>3</th>\n",
              "      <td>theres call call spark call world always</td>\n",
              "    </tr>\n",
              "    <tr>\n",
              "      <th>4</th>\n",
              "      <td>scary plausible</td>\n",
              "    </tr>\n",
              "    <tr>\n",
              "      <th>5</th>\n",
              "      <td>track trace utterly useless proof covid spread...</td>\n",
              "    </tr>\n",
              "    <tr>\n",
              "      <th>6</th>\n",
              "      <td>camp never lose faith team proud aggie remembe...</td>\n",
              "    </tr>\n",
              "    <tr>\n",
              "      <th>7</th>\n",
              "      <td>bhpv merge bhel say announce lok sabha ncbn lo...</td>\n",
              "    </tr>\n",
              "    <tr>\n",
              "      <th>8</th>\n",
              "      <td>check result last two weeks arround time sum n...</td>\n",
              "    </tr>\n",
              "    <tr>\n",
              "      <th>9</th>\n",
              "      <td>see cabinet minister speak television deep thi...</td>\n",
              "    </tr>\n",
              "  </tbody>\n",
              "</table>\n",
              "</div>"
            ],
            "text/plain": [
              "                                                Text\n",
              "0  account grow difficult keep track people activ...\n",
              "1  release lyric video collab song bipolar sunshi...\n",
              "2  stargalaxy genuinely cant even imagine second ...\n",
              "3           theres call call spark call world always\n",
              "4                                    scary plausible\n",
              "5  track trace utterly useless proof covid spread...\n",
              "6  camp never lose faith team proud aggie remembe...\n",
              "7  bhpv merge bhel say announce lok sabha ncbn lo...\n",
              "8  check result last two weeks arround time sum n...\n",
              "9  see cabinet minister speak television deep thi..."
            ]
          },
          "execution_count": 2,
          "metadata": {},
          "output_type": "execute_result"
        }
      ]
    },
    {
      "cell_type": "code",
      "metadata": {
        "id": "I7nxATCq7irA",
        "outputId": "a11641df-495d-4702-85a0-a79628d7e0ce"
      },
      "source": [
        "d.isna().sum()"
      ],
      "execution_count": null,
      "outputs": [
        {
          "data": {
            "text/plain": [
              "Text    0\n",
              "dtype: int64"
            ]
          },
          "execution_count": 3,
          "metadata": {},
          "output_type": "execute_result"
        }
      ]
    },
    {
      "cell_type": "code",
      "metadata": {
        "id": "hEJI9Hpq7irD"
      },
      "source": [
        "d.dropna(inplace=True)"
      ],
      "execution_count": null,
      "outputs": []
    },
    {
      "cell_type": "code",
      "metadata": {
        "scrolled": true,
        "id": "vAqxsBvO7irD",
        "outputId": "895e7609-3976-401f-bc73-073397e07f42"
      },
      "source": [
        "d.info()"
      ],
      "execution_count": null,
      "outputs": [
        {
          "name": "stdout",
          "output_type": "stream",
          "text": [
            "<class 'pandas.core.frame.DataFrame'>\n",
            "Int64Index: 6294 entries, 0 to 6293\n",
            "Data columns (total 1 columns):\n",
            "Text    6294 non-null object\n",
            "dtypes: object(1)\n",
            "memory usage: 98.3+ KB\n"
          ]
        }
      ]
    },
    {
      "cell_type": "code",
      "metadata": {
        "id": "_GJ2kP7H7irE"
      },
      "source": [
        "n = len(d)\n",
        "d[\"Sentiment\"]=[None for i in range(n)]\n",
        "for i in range(n):\n",
        "    \n",
        "    s = TextBlob(d[\"Text\"].iloc[i]).sentiment\n",
        "    if(s[0]>=0):\n",
        "        d[\"Sentiment\"].iloc[i] = 0\n",
        "    else:\n",
        "        d[\"Sentiment\"].iloc[i] = 1"
      ],
      "execution_count": null,
      "outputs": []
    },
    {
      "cell_type": "code",
      "metadata": {
        "id": "v_x19GQY7irF",
        "outputId": "c91818a7-9311-4209-9170-2c3ff47ca7de"
      },
      "source": [
        "len(d[d[\"Sentiment\"]==0]), len(d[d[\"Sentiment\"]==1])"
      ],
      "execution_count": null,
      "outputs": [
        {
          "data": {
            "text/plain": [
              "(4667, 1627)"
            ]
          },
          "execution_count": 7,
          "metadata": {},
          "output_type": "execute_result"
        }
      ]
    },
    {
      "cell_type": "code",
      "metadata": {
        "id": "E3ZysWnB7irF"
      },
      "source": [
        "no = len(d[d[\"Sentiment\"]==1])"
      ],
      "execution_count": null,
      "outputs": []
    },
    {
      "cell_type": "code",
      "metadata": {
        "id": "Gi1E27hY7irG"
      },
      "source": [
        "t = d[d[\"Sentiment\"]==0][:no]\n",
        "s = d[d[\"Sentiment\"]==1]"
      ],
      "execution_count": null,
      "outputs": []
    },
    {
      "cell_type": "code",
      "metadata": {
        "id": "LPg7JeOq7irG",
        "outputId": "0e71bd32-d360-4fab-b016-1ccfeb463723"
      },
      "source": [
        "df = pd.concat([s,t],ignore_index=\"True\")\n",
        "len(df)"
      ],
      "execution_count": null,
      "outputs": [
        {
          "data": {
            "text/plain": [
              "3254"
            ]
          },
          "execution_count": 10,
          "metadata": {},
          "output_type": "execute_result"
        }
      ]
    },
    {
      "cell_type": "code",
      "metadata": {
        "id": "5DXr5Bdn7irH"
      },
      "source": [
        "from sklearn.feature_extraction.text import CountVectorizer\n",
        "from sklearn.feature_extraction.text import TfidfVectorizer\n",
        "\n",
        "cv = CountVectorizer()\n",
        "tf = TfidfVectorizer()\n",
        "x1 = cv.fit_transform(df[\"Text\"])\n",
        "x2 = tf.fit_transform(df[\"Text\"])\n",
        "y = df[\"Sentiment\"]\n",
        "y=y.astype('int')"
      ],
      "execution_count": null,
      "outputs": []
    },
    {
      "cell_type": "markdown",
      "metadata": {
        "id": "EWO4F6g87irH"
      },
      "source": [
        "# MODEL DEVELOPMENT AND EVALUATION"
      ]
    },
    {
      "cell_type": "markdown",
      "metadata": {
        "id": "1SpYy0Zm7irI"
      },
      "source": [
        "# Splitting into Train and Test Data"
      ]
    },
    {
      "cell_type": "code",
      "metadata": {
        "id": "tYIxIqOi7irI"
      },
      "source": [
        "from sklearn.model_selection import train_test_split\n",
        "\n",
        "x_train,x_test, y_train, y_test = train_test_split(x1,y,test_size=0.2,random_state=42)\n",
        "X_train, X_test, Y_train, Y_test = train_test_split(x2,y,test_size=0.2,random_state=42)"
      ],
      "execution_count": null,
      "outputs": []
    },
    {
      "cell_type": "markdown",
      "metadata": {
        "id": "CIbMo_HM7irI"
      },
      "source": [
        "# Model Training and Testing"
      ]
    },
    {
      "cell_type": "code",
      "metadata": {
        "id": "xt-4sguv7irJ"
      },
      "source": [
        "from sklearn import metrics\n",
        "\n",
        "accuracy = {}\n",
        "model = {}\n",
        "vectorizer = {\"CountVectorizer\":cv,\"TfidfVectorizer\":tf}"
      ],
      "execution_count": null,
      "outputs": []
    },
    {
      "cell_type": "markdown",
      "metadata": {
        "id": "3pNlCDlm7irJ"
      },
      "source": [
        "# Decision Tree Classifier"
      ]
    },
    {
      "cell_type": "markdown",
      "metadata": {
        "id": "b87Sz21T7irJ"
      },
      "source": [
        "### CountVectorizer"
      ]
    },
    {
      "cell_type": "code",
      "metadata": {
        "id": "0aw1vWUE7irK"
      },
      "source": [
        "from sklearn.tree import DecisionTreeClassifier\n",
        "\n",
        "dtc = DecisionTreeClassifier()\n",
        "dtc.fit(x_train,y_train)\n",
        "y_pred1 = dtc.predict(x_test)\n",
        "k = \"Decision Tree Classifier with CountVectorizer\"\n",
        "model[k] = dtc"
      ],
      "execution_count": null,
      "outputs": []
    },
    {
      "cell_type": "code",
      "metadata": {
        "id": "gOFEKDDp7irK",
        "outputId": "fb34e1b0-7d7a-419a-fc63-2d3a2a9d25f8"
      },
      "source": [
        "a1 = metrics.accuracy_score(y_test, y_pred1)\n",
        "recall = metrics.recall_score(y_test, y_pred1)\n",
        "accuracy[k] = float(\"{0:.4f}\".format(a1))\n",
        "print(k)\n",
        "print(\"Accuracy:\",accuracy[k])\n",
        "print(\"Recall  : {0:.4f}\".format(recall))"
      ],
      "execution_count": null,
      "outputs": [
        {
          "name": "stdout",
          "output_type": "stream",
          "text": [
            "Decision Tree Classifier with CountVectorizer\n",
            "Accuracy: 0.9232\n",
            "Recall  : 0.9054\n"
          ]
        }
      ]
    },
    {
      "cell_type": "markdown",
      "metadata": {
        "id": "nz1MinVn7irL"
      },
      "source": [
        "### TfidfVectorizer"
      ]
    },
    {
      "cell_type": "code",
      "metadata": {
        "id": "VmzIumgX7irL"
      },
      "source": [
        "dtc = DecisionTreeClassifier()\n",
        "dtc.fit(X_train,Y_train)\n",
        "Y_pred1 = dtc.predict(X_test)\n",
        "k = \"Decision Tree Classifier with TfidfVectorizer\"\n",
        "model[k] = dtc"
      ],
      "execution_count": null,
      "outputs": []
    },
    {
      "cell_type": "code",
      "metadata": {
        "id": "m6pzPU9O7irL",
        "outputId": "df2684cb-8ca2-4a27-f92b-672b1e25ba56"
      },
      "source": [
        "a2 = metrics.accuracy_score(Y_test, Y_pred1)\n",
        "recall = metrics.recall_score(Y_test, Y_pred1)\n",
        "accuracy[k] = float(\"{0:.4f}\".format(a2))\n",
        "print(k)\n",
        "print(\"Accuracy:\",accuracy[k])\n",
        "print(\"Recall  : {0:.4f}\".format(recall))"
      ],
      "execution_count": null,
      "outputs": [
        {
          "name": "stdout",
          "output_type": "stream",
          "text": [
            "Decision Tree Classifier with TfidfVectorizer\n",
            "Accuracy: 0.9094\n",
            "Recall  : 0.9026\n"
          ]
        }
      ]
    },
    {
      "cell_type": "markdown",
      "metadata": {
        "id": "tNodUBPC7irM"
      },
      "source": [
        "# Random Forest Classifier"
      ]
    },
    {
      "cell_type": "markdown",
      "metadata": {
        "id": "1Ii2sIh57irN"
      },
      "source": [
        "### CountVectorizer"
      ]
    },
    {
      "cell_type": "code",
      "metadata": {
        "id": "sdN5kf2t7irN"
      },
      "source": [
        "from sklearn.ensemble import RandomForestClassifier\n",
        "\n",
        "rfc = RandomForestClassifier()\n",
        "rfc.fit(x_train,y_train)\n",
        "y_pred2 = rfc.predict(x_test)\n",
        "k = \"Random Forest Classifier with CountVectorizer\"\n",
        "model[k] = rfc"
      ],
      "execution_count": null,
      "outputs": []
    },
    {
      "cell_type": "code",
      "metadata": {
        "id": "TQI3wAWy7irN",
        "outputId": "06f4e1be-edbb-4944-8234-d4caa39fa272"
      },
      "source": [
        "a3 = metrics.accuracy_score(y_test, y_pred2)\n",
        "recall = metrics.recall_score(y_test, y_pred2)\n",
        "accuracy[k] = float(\"{0:.4f}\".format(a3))\n",
        "print(k)\n",
        "print(\"Accuracy:\",accuracy[k])\n",
        "print(\"Recall  : {0:.4f}\".format(recall))"
      ],
      "execution_count": null,
      "outputs": [
        {
          "name": "stdout",
          "output_type": "stream",
          "text": [
            "Random Forest Classifier with CountVectorizer\n",
            "Accuracy: 0.914\n",
            "Recall  : 0.8739\n"
          ]
        }
      ]
    },
    {
      "cell_type": "markdown",
      "metadata": {
        "id": "una2AIxJ7irO"
      },
      "source": [
        "### TfidfVectorizer"
      ]
    },
    {
      "cell_type": "code",
      "metadata": {
        "scrolled": false,
        "id": "enKYUA_C7irP"
      },
      "source": [
        "rfc = RandomForestClassifier()\n",
        "rfc.fit(X_train,Y_train)\n",
        "Y_pred2 = rfc.predict(X_test)\n",
        "k = \"Random Forest Classifier with TfidfVectorizer\"\n",
        "model[k] = rfc"
      ],
      "execution_count": null,
      "outputs": []
    },
    {
      "cell_type": "code",
      "metadata": {
        "id": "uL92-B_E7irP",
        "outputId": "820e82d3-304e-4e61-f1fa-505cb1b3adfc"
      },
      "source": [
        "a4 = metrics.accuracy_score(Y_test, Y_pred2)\n",
        "recall = metrics.recall_score(Y_test, Y_pred2)\n",
        "accuracy[k] = float(\"{0:.4f}\".format(a4))\n",
        "print(k)\n",
        "print(\"Accuracy:\",accuracy[k])\n",
        "print(\"Recall  : {0:.4f}\".format(recall))"
      ],
      "execution_count": null,
      "outputs": [
        {
          "name": "stdout",
          "output_type": "stream",
          "text": [
            "Random Forest Classifier with TfidfVectorizer\n",
            "Accuracy: 0.9124\n",
            "Recall  : 0.8653\n"
          ]
        }
      ]
    },
    {
      "cell_type": "code",
      "metadata": {
        "id": "B3nYG2yz7irQ",
        "outputId": "b7536e44-5698-441f-b1e0-4eb3a980b10f"
      },
      "source": [
        "ad={}\n",
        "for i in accuracy:\n",
        "    ad[i] = {\"Accuracy\":accuracy[i]}\n",
        "ad = pd.DataFrame(ad)\n",
        "ad"
      ],
      "execution_count": null,
      "outputs": [
        {
          "data": {
            "text/html": [
              "<div>\n",
              "<style scoped>\n",
              "    .dataframe tbody tr th:only-of-type {\n",
              "        vertical-align: middle;\n",
              "    }\n",
              "\n",
              "    .dataframe tbody tr th {\n",
              "        vertical-align: top;\n",
              "    }\n",
              "\n",
              "    .dataframe thead th {\n",
              "        text-align: right;\n",
              "    }\n",
              "</style>\n",
              "<table border=\"1\" class=\"dataframe\">\n",
              "  <thead>\n",
              "    <tr style=\"text-align: right;\">\n",
              "      <th></th>\n",
              "      <th>Decision Tree Classifier with CountVectorizer</th>\n",
              "      <th>Decision Tree Classifier with TfidfVectorizer</th>\n",
              "      <th>Random Forest Classifier with CountVectorizer</th>\n",
              "      <th>Random Forest Classifier with TfidfVectorizer</th>\n",
              "    </tr>\n",
              "  </thead>\n",
              "  <tbody>\n",
              "    <tr>\n",
              "      <th>Accuracy</th>\n",
              "      <td>0.9232</td>\n",
              "      <td>0.9094</td>\n",
              "      <td>0.914</td>\n",
              "      <td>0.9124</td>\n",
              "    </tr>\n",
              "  </tbody>\n",
              "</table>\n",
              "</div>"
            ],
            "text/plain": [
              "          Decision Tree Classifier with CountVectorizer  \\\n",
              "Accuracy                                         0.9232   \n",
              "\n",
              "          Decision Tree Classifier with TfidfVectorizer  \\\n",
              "Accuracy                                         0.9094   \n",
              "\n",
              "          Random Forest Classifier with CountVectorizer  \\\n",
              "Accuracy                                          0.914   \n",
              "\n",
              "          Random Forest Classifier with TfidfVectorizer  \n",
              "Accuracy                                         0.9124  "
            ]
          },
          "execution_count": 22,
          "metadata": {},
          "output_type": "execute_result"
        }
      ]
    }
  ]
}