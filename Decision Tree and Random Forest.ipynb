{
 "cells": [
  {
   "cell_type": "markdown",
   "id": "incorporate-humor",
   "metadata": {},
   "source": [
    "# FEATURE EXTRACTION"
   ]
  },
  {
   "cell_type": "code",
   "execution_count": 1,
   "id": "heated-manitoba",
   "metadata": {},
   "outputs": [],
   "source": [
    "import pandas as pd\n",
    "from textblob import TextBlob\n",
    "\n",
    "from sklearn.feature_extraction.text import CountVectorizer\n",
    "from sklearn.feature_extraction.text import TfidfVectorizer"
   ]
  },
  {
   "cell_type": "code",
   "execution_count": 2,
   "id": "entire-supply",
   "metadata": {
    "scrolled": true
   },
   "outputs": [
    {
     "data": {
      "text/html": [
       "<div>\n",
       "<style scoped>\n",
       "    .dataframe tbody tr th:only-of-type {\n",
       "        vertical-align: middle;\n",
       "    }\n",
       "\n",
       "    .dataframe tbody tr th {\n",
       "        vertical-align: top;\n",
       "    }\n",
       "\n",
       "    .dataframe thead th {\n",
       "        text-align: right;\n",
       "    }\n",
       "</style>\n",
       "<table border=\"1\" class=\"dataframe\">\n",
       "  <thead>\n",
       "    <tr style=\"text-align: right;\">\n",
       "      <th></th>\n",
       "      <th>Text</th>\n",
       "    </tr>\n",
       "  </thead>\n",
       "  <tbody>\n",
       "    <tr>\n",
       "      <th>0</th>\n",
       "      <td>talk ilandthere surprisingly lot people like i...</td>\n",
       "    </tr>\n",
       "    <tr>\n",
       "      <th>1</th>\n",
       "      <td>yes suicide haram makingsomeones life miserabl...</td>\n",
       "    </tr>\n",
       "    <tr>\n",
       "      <th>2</th>\n",
       "      <td>stressed depressed go need somebody talk</td>\n",
       "    </tr>\n",
       "    <tr>\n",
       "      <th>3</th>\n",
       "      <td>always learn strong alone</td>\n",
       "    </tr>\n",
       "    <tr>\n",
       "      <th>4</th>\n",
       "      <td>catarllna add another</td>\n",
       "    </tr>\n",
       "    <tr>\n",
       "      <th>5</th>\n",
       "      <td>see bass canyon lost land fill survey thingy v...</td>\n",
       "    </tr>\n",
       "    <tr>\n",
       "      <th>6</th>\n",
       "      <td>underside worldof course stupid bles iiiii</td>\n",
       "    </tr>\n",
       "    <tr>\n",
       "      <th>7</th>\n",
       "      <td>working mall brain filled poison edg</td>\n",
       "    </tr>\n",
       "    <tr>\n",
       "      <th>8</th>\n",
       "      <td>within new york state park police alone office...</td>\n",
       "    </tr>\n",
       "    <tr>\n",
       "      <th>9</th>\n",
       "      <td>I literally tired</td>\n",
       "    </tr>\n",
       "  </tbody>\n",
       "</table>\n",
       "</div>"
      ],
      "text/plain": [
       "                                                Text\n",
       "0  talk ilandthere surprisingly lot people like i...\n",
       "1  yes suicide haram makingsomeones life miserabl...\n",
       "2           stressed depressed go need somebody talk\n",
       "3                          always learn strong alone\n",
       "4                              catarllna add another\n",
       "5  see bass canyon lost land fill survey thingy v...\n",
       "6         underside worldof course stupid bles iiiii\n",
       "7               working mall brain filled poison edg\n",
       "8  within new york state park police alone office...\n",
       "9                                  I literally tired"
      ]
     },
     "execution_count": 2,
     "metadata": {},
     "output_type": "execute_result"
    }
   ],
   "source": [
    "d = pd.read_csv(\"Processed_tweets.csv\")\n",
    "d = d.drop([\"Unnamed: 0\"],axis=1)\n",
    "d.head(10)"
   ]
  },
  {
   "cell_type": "code",
   "execution_count": 3,
   "id": "dying-training",
   "metadata": {},
   "outputs": [],
   "source": [
    "d.drop_duplicates(inplace=True)"
   ]
  },
  {
   "cell_type": "code",
   "execution_count": 4,
   "id": "thousand-princess",
   "metadata": {
    "scrolled": false
   },
   "outputs": [
    {
     "data": {
      "text/plain": [
       "Text    0\n",
       "dtype: int64"
      ]
     },
     "execution_count": 4,
     "metadata": {},
     "output_type": "execute_result"
    }
   ],
   "source": [
    "d.isna().sum()"
   ]
  },
  {
   "cell_type": "code",
   "execution_count": 5,
   "id": "divided-actor",
   "metadata": {},
   "outputs": [],
   "source": [
    "d.dropna(inplace=True)"
   ]
  },
  {
   "cell_type": "code",
   "execution_count": 6,
   "id": "sound-landing",
   "metadata": {
    "scrolled": true
   },
   "outputs": [
    {
     "name": "stdout",
     "output_type": "stream",
     "text": [
      "<class 'pandas.core.frame.DataFrame'>\n",
      "Int64Index: 6735 entries, 0 to 6918\n",
      "Data columns (total 1 columns):\n",
      "Text    6735 non-null object\n",
      "dtypes: object(1)\n",
      "memory usage: 105.2+ KB\n"
     ]
    }
   ],
   "source": [
    "d.info()"
   ]
  },
  {
   "cell_type": "code",
   "execution_count": 7,
   "id": "juvenile-collect",
   "metadata": {},
   "outputs": [],
   "source": [
    "n = len(d)\n",
    "d[\"Sentiment\"]=[None for i in range(n)]\n",
    "for i in range(n):\n",
    "    \n",
    "    s = TextBlob(d[\"Text\"].iloc[i]).sentiment\n",
    "    if(s[0]>=0):\n",
    "        d[\"Sentiment\"].iloc[i] = 0\n",
    "    else:\n",
    "        d[\"Sentiment\"].iloc[i] = 1"
   ]
  },
  {
   "cell_type": "code",
   "execution_count": 8,
   "id": "better-night",
   "metadata": {},
   "outputs": [
    {
     "data": {
      "text/plain": [
       "(4519, 2216)"
      ]
     },
     "execution_count": 8,
     "metadata": {},
     "output_type": "execute_result"
    }
   ],
   "source": [
    "len(d[d[\"Sentiment\"]==0]), len(d[d[\"Sentiment\"]==1])"
   ]
  },
  {
   "cell_type": "code",
   "execution_count": 9,
   "id": "impressive-daniel",
   "metadata": {},
   "outputs": [],
   "source": [
    "no = len(d[d[\"Sentiment\"]==1])"
   ]
  },
  {
   "cell_type": "code",
   "execution_count": 10,
   "id": "parliamentary-terrain",
   "metadata": {},
   "outputs": [],
   "source": [
    "t = d[d[\"Sentiment\"]==0][:no]\n",
    "s = d[d[\"Sentiment\"]==1]"
   ]
  },
  {
   "cell_type": "code",
   "execution_count": 11,
   "id": "dietary-rebecca",
   "metadata": {},
   "outputs": [
    {
     "data": {
      "text/plain": [
       "4432"
      ]
     },
     "execution_count": 11,
     "metadata": {},
     "output_type": "execute_result"
    }
   ],
   "source": [
    "df = pd.concat([s,t],ignore_index=\"True\")\n",
    "len(df)"
   ]
  },
  {
   "cell_type": "markdown",
   "id": "refined-nurse",
   "metadata": {},
   "source": [
    "# MODEL DEVELOPMENT AND EVALUATION"
   ]
  },
  {
   "cell_type": "markdown",
   "id": "statutory-casino",
   "metadata": {},
   "source": [
    "# Splitting into Train and Test Data"
   ]
  },
  {
   "cell_type": "code",
   "execution_count": 12,
   "id": "asian-soundtrack",
   "metadata": {},
   "outputs": [],
   "source": [
    "from sklearn.model_selection import train_test_split\n",
    "\n",
    "x= df[\"Text\"]\n",
    "y = df[\"Sentiment\"].astype(\"int\")\n",
    "x_train,x_test, y_train, y_test = train_test_split(x,y,test_size=0.2,random_state=42)"
   ]
  },
  {
   "cell_type": "code",
   "execution_count": 13,
   "id": "right-mercury",
   "metadata": {},
   "outputs": [],
   "source": [
    "cv = CountVectorizer(ngram_range=(1,3))\n",
    "tf = TfidfVectorizer(ngram_range=(1,3))\n",
    "x1 = cv.fit_transform(x_train)\n",
    "x2 = tf.fit_transform(x_train)"
   ]
  },
  {
   "cell_type": "code",
   "execution_count": 14,
   "id": "following-amateur",
   "metadata": {},
   "outputs": [],
   "source": [
    "from sklearn import metrics\n",
    "\n",
    "accuracy = {}\n",
    "model = {}\n",
    "vectorizer = {\"CountVectorizer\":cv,\"TfidfVectorizer\":tf}"
   ]
  },
  {
   "cell_type": "markdown",
   "id": "backed-cross",
   "metadata": {},
   "source": [
    "# Decision Tree Classifier"
   ]
  },
  {
   "cell_type": "markdown",
   "id": "suited-samoa",
   "metadata": {},
   "source": [
    "### CountVectorizer"
   ]
  },
  {
   "cell_type": "code",
   "execution_count": 15,
   "id": "august-collectible",
   "metadata": {},
   "outputs": [],
   "source": [
    "from sklearn.tree import DecisionTreeClassifier\n",
    "\n",
    "dtc = DecisionTreeClassifier()\n",
    "dtc.fit(x1,y_train)\n",
    "y_pred1 = dtc.predict(cv.transform(x_test))\n",
    "k = \"Decision Tree Classifier with CountVectorizer\"\n",
    "model[k]=dtc"
   ]
  },
  {
   "cell_type": "code",
   "execution_count": 16,
   "id": "interstate-spank",
   "metadata": {},
   "outputs": [
    {
     "name": "stdout",
     "output_type": "stream",
     "text": [
      "Decision Tree Classifier with CountVectorizer\n",
      "Accuracy: 0.9008\n",
      "Recall  : 0.8942\n"
     ]
    }
   ],
   "source": [
    "a1 = metrics.accuracy_score(y_test, y_pred1)\n",
    "recall = metrics.recall_score(y_test, y_pred1)\n",
    "accuracy[k] = a1\n",
    "print(k)\n",
    "print(\"Accuracy: {0:.4f}\".format(a1))\n",
    "print(\"Recall  : {0:.4f}\".format(recall))"
   ]
  },
  {
   "cell_type": "markdown",
   "id": "pursuant-replication",
   "metadata": {},
   "source": [
    "### TfidfVectorizer"
   ]
  },
  {
   "cell_type": "code",
   "execution_count": 17,
   "id": "continental-acrylic",
   "metadata": {},
   "outputs": [],
   "source": [
    "dtc = DecisionTreeClassifier()\n",
    "dtc.fit(x2,y_train)\n",
    "y_pred2 = dtc.predict(tf.transform(x_test))\n",
    "k = \"Decision Tree Classifier with TfidfVectorizer\"\n",
    "model[k]=dtc"
   ]
  },
  {
   "cell_type": "code",
   "execution_count": 18,
   "id": "imported-empty",
   "metadata": {},
   "outputs": [
    {
     "name": "stdout",
     "output_type": "stream",
     "text": [
      "Decision Tree Classifier with TfidfVectorizer\n",
      "Accuracy: 0.8963\n",
      "Recall  : 0.8963\n"
     ]
    }
   ],
   "source": [
    "a2 = metrics.accuracy_score(y_test, y_pred2)\n",
    "recall = metrics.recall_score(y_test, y_pred2)\n",
    "accuracy[k] = a2\n",
    "print(k)\n",
    "print(\"Accuracy: {0:.4f}\".format(a2))\n",
    "print(\"Recall  : {0:.4f}\".format(recall))"
   ]
  },
  {
   "cell_type": "markdown",
   "id": "continued-marine",
   "metadata": {},
   "source": [
    "# Random Forest Classifier"
   ]
  },
  {
   "cell_type": "markdown",
   "id": "duplicate-chick",
   "metadata": {},
   "source": [
    "### CountVectorizer"
   ]
  },
  {
   "cell_type": "code",
   "execution_count": 19,
   "id": "crude-powder",
   "metadata": {},
   "outputs": [],
   "source": [
    "from sklearn.ensemble import RandomForestClassifier\n",
    "\n",
    "rfc = RandomForestClassifier()\n",
    "rfc.fit(x1,y_train)\n",
    "y_pred3 = rfc.predict(cv.transform(x_test))\n",
    "k = \"Random Forest Classifier with CountVectorizer\"\n",
    "model[k]=rfc"
   ]
  },
  {
   "cell_type": "code",
   "execution_count": 20,
   "id": "intermediate-memorial",
   "metadata": {},
   "outputs": [
    {
     "name": "stdout",
     "output_type": "stream",
     "text": [
      "Random Forest Classifier with CountVectorizer\n",
      "Accuracy: 0.8579\n",
      "Recall  : 0.7754\n"
     ]
    }
   ],
   "source": [
    "a3 = metrics.accuracy_score(y_test, y_pred3)\n",
    "recall = metrics.recall_score(y_test, y_pred3)\n",
    "accuracy[k] = a3\n",
    "print(k)\n",
    "print(\"Accuracy: {0:.4f}\".format(a3))\n",
    "print(\"Recall  : {0:.4f}\".format(recall))"
   ]
  },
  {
   "cell_type": "markdown",
   "id": "exciting-heaven",
   "metadata": {},
   "source": [
    "### TfidfVectorizer"
   ]
  },
  {
   "cell_type": "code",
   "execution_count": 21,
   "id": "included-collector",
   "metadata": {
    "scrolled": false
   },
   "outputs": [],
   "source": [
    "rfc = RandomForestClassifier()\n",
    "rfc.fit(x2,y_train)\n",
    "y_pred4 = rfc.predict(tf.transform(x_test))\n",
    "k = \"Random Forest Classifier with TfidfVectorizer\"\n",
    "model[k]=rfc"
   ]
  },
  {
   "cell_type": "code",
   "execution_count": 22,
   "id": "royal-charge",
   "metadata": {
    "scrolled": true
   },
   "outputs": [
    {
     "name": "stdout",
     "output_type": "stream",
     "text": [
      "Random Forest Classifier with TfidfVectorizer\n",
      "Accuracy: 0.8399\n",
      "Recall  : 0.7711\n"
     ]
    }
   ],
   "source": [
    "a4 = metrics.accuracy_score(y_test, y_pred4)\n",
    "recall = metrics.recall_score(y_test, y_pred4)\n",
    "accuracy[k] = a4\n",
    "print(k)\n",
    "print(\"Accuracy: {0:.4f}\".format(a4))\n",
    "print(\"Recall  : {0:.4f}\".format(recall))"
   ]
  },
  {
   "cell_type": "code",
   "execution_count": 23,
   "id": "powerful-abuse",
   "metadata": {},
   "outputs": [
    {
     "data": {
      "text/html": [
       "<div>\n",
       "<style scoped>\n",
       "    .dataframe tbody tr th:only-of-type {\n",
       "        vertical-align: middle;\n",
       "    }\n",
       "\n",
       "    .dataframe tbody tr th {\n",
       "        vertical-align: top;\n",
       "    }\n",
       "\n",
       "    .dataframe thead th {\n",
       "        text-align: right;\n",
       "    }\n",
       "</style>\n",
       "<table border=\"1\" class=\"dataframe\">\n",
       "  <thead>\n",
       "    <tr style=\"text-align: right;\">\n",
       "      <th></th>\n",
       "      <th>Accuracy</th>\n",
       "    </tr>\n",
       "  </thead>\n",
       "  <tbody>\n",
       "    <tr>\n",
       "      <th>Decision Tree Classifier with CountVectorizer</th>\n",
       "      <td>0.900789</td>\n",
       "    </tr>\n",
       "    <tr>\n",
       "      <th>Decision Tree Classifier with TfidfVectorizer</th>\n",
       "      <td>0.896280</td>\n",
       "    </tr>\n",
       "    <tr>\n",
       "      <th>Random Forest Classifier with CountVectorizer</th>\n",
       "      <td>0.857948</td>\n",
       "    </tr>\n",
       "    <tr>\n",
       "      <th>Random Forest Classifier with TfidfVectorizer</th>\n",
       "      <td>0.839910</td>\n",
       "    </tr>\n",
       "  </tbody>\n",
       "</table>\n",
       "</div>"
      ],
      "text/plain": [
       "                                               Accuracy\n",
       "Decision Tree Classifier with CountVectorizer  0.900789\n",
       "Decision Tree Classifier with TfidfVectorizer  0.896280\n",
       "Random Forest Classifier with CountVectorizer  0.857948\n",
       "Random Forest Classifier with TfidfVectorizer  0.839910"
      ]
     },
     "execution_count": 23,
     "metadata": {},
     "output_type": "execute_result"
    }
   ],
   "source": [
    "sorted(accuracy)\n",
    "ad = pd.DataFrame({\"Accuracy\":accuracy})\n",
    "ad"
   ]
  }
 ],
 "metadata": {
  "kernelspec": {
   "display_name": "Python 3",
   "language": "python",
   "name": "python3"
  },
  "language_info": {
   "codemirror_mode": {
    "name": "ipython",
    "version": 3
   },
   "file_extension": ".py",
   "mimetype": "text/x-python",
   "name": "python",
   "nbconvert_exporter": "python",
   "pygments_lexer": "ipython3",
   "version": "3.5.6"
  }
 },
 "nbformat": 4,
 "nbformat_minor": 5
}
