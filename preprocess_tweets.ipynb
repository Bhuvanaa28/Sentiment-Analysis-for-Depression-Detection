{
 "cells": [
  {
   "cell_type": "markdown",
   "metadata": {},
   "source": [
    "# PRE-PROCESSING"
   ]
  },
  {
   "cell_type": "code",
   "execution_count": 1,
   "metadata": {
    "id": "IGcT6mBoXQGQ",
    "scrolled": true
   },
   "outputs": [],
   "source": [
    "import pandas as pd\n",
    "import json\n",
    "import re\n",
    "import string\n",
    "import unicodedata\n",
    "from nltk.tokenize import word_tokenize\n",
    "from nltk.corpus import stopwords\n",
    "from nltk.stem.wordnet import WordNetLemmatizer"
   ]
  },
  {
   "cell_type": "code",
   "execution_count": 2,
   "metadata": {
    "id": "ICCdfA5KXQGT"
   },
   "outputs": [],
   "source": [
    "raw_tweets_text=[]\n",
    "\n",
    "def get_data(url):\n",
    "    with open(url) as fp:\n",
    "        for line in fp:\n",
    "                if(line!=\"\\n\"):\n",
    "                    tweet_as_dict=json.loads(line)\n",
    "                    raw_tweets_text.append(tweet_as_dict['text'])\n",
    "    convert_to_csv()\n",
    "\n",
    "def convert_to_csv():    \n",
    "    df=pd.DataFrame(raw_tweets_text)\n",
    "    df.to_csv('tweets.csv')"
   ]
  },
  {
   "cell_type": "code",
   "execution_count": 3,
   "metadata": {
    "id": "27njxrWUXQGU"
   },
   "outputs": [],
   "source": [
    "get_data('tweets_file.txt')"
   ]
  },
  {
   "cell_type": "code",
   "execution_count": 4,
   "metadata": {
    "colab": {
     "base_uri": "https://localhost:8080/",
     "height": 363
    },
    "id": "lS17E8TVXQGV",
    "outputId": "c0e64a05-8b2d-4396-d34f-c03488683c29",
    "scrolled": true
   },
   "outputs": [
    {
     "data": {
      "text/html": [
       "<div>\n",
       "<style scoped>\n",
       "    .dataframe tbody tr th:only-of-type {\n",
       "        vertical-align: middle;\n",
       "    }\n",
       "\n",
       "    .dataframe tbody tr th {\n",
       "        vertical-align: top;\n",
       "    }\n",
       "\n",
       "    .dataframe thead th {\n",
       "        text-align: right;\n",
       "    }\n",
       "</style>\n",
       "<table border=\"1\" class=\"dataframe\">\n",
       "  <thead>\n",
       "    <tr style=\"text-align: right;\">\n",
       "      <th></th>\n",
       "      <th>Text</th>\n",
       "    </tr>\n",
       "  </thead>\n",
       "  <tbody>\n",
       "    <tr>\n",
       "      <th>0</th>\n",
       "      <td>RT @sculpturejay: 🐆should we talk about i-land...</td>\n",
       "    </tr>\n",
       "    <tr>\n",
       "      <th>1</th>\n",
       "      <td>RT @abetokhi: Yes suicide is haram but making\\...</td>\n",
       "    </tr>\n",
       "    <tr>\n",
       "      <th>2</th>\n",
       "      <td>RT @geezybeatz145__: I am stressed, I am depre...</td>\n",
       "    </tr>\n",
       "    <tr>\n",
       "      <th>3</th>\n",
       "      <td>RT @MillsReggie: always learn how to be strong...</td>\n",
       "    </tr>\n",
       "    <tr>\n",
       "      <th>4</th>\n",
       "      <td>@CATARllNA Should I add another one then? 🤔</td>\n",
       "    </tr>\n",
       "    <tr>\n",
       "      <th>5</th>\n",
       "      <td>RT @evalution_music: If you wanna see me at ba...</td>\n",
       "    </tr>\n",
       "    <tr>\n",
       "      <th>6</th>\n",
       "      <td>This is the underside of my world.Of course yo...</td>\n",
       "    </tr>\n",
       "    <tr>\n",
       "      <th>7</th>\n",
       "      <td>RT @empresslexiii: I dont care if you are work...</td>\n",
       "    </tr>\n",
       "    <tr>\n",
       "      <th>8</th>\n",
       "      <td>RT @Bryan62784488: Within the New York State P...</td>\n",
       "    </tr>\n",
       "    <tr>\n",
       "      <th>9</th>\n",
       "      <td>I'm literally tired</td>\n",
       "    </tr>\n",
       "  </tbody>\n",
       "</table>\n",
       "</div>"
      ],
      "text/plain": [
       "                                                Text\n",
       "0  RT @sculpturejay: 🐆should we talk about i-land...\n",
       "1  RT @abetokhi: Yes suicide is haram but making\\...\n",
       "2  RT @geezybeatz145__: I am stressed, I am depre...\n",
       "3  RT @MillsReggie: always learn how to be strong...\n",
       "4        @CATARllNA Should I add another one then? 🤔\n",
       "5  RT @evalution_music: If you wanna see me at ba...\n",
       "6  This is the underside of my world.Of course yo...\n",
       "7  RT @empresslexiii: I dont care if you are work...\n",
       "8  RT @Bryan62784488: Within the New York State P...\n",
       "9                                I'm literally tired"
      ]
     },
     "execution_count": 4,
     "metadata": {},
     "output_type": "execute_result"
    }
   ],
   "source": [
    "d = pd.read_csv(\"tweets.csv\")\n",
    "d = d.drop(\"Unnamed: 0\",axis=1)\n",
    "d = d.rename(columns={\"0\":\"Text\"})\n",
    "d.drop_duplicates(inplace=True)\n",
    "d = d.reset_index(drop=True)\n",
    "d.to_csv('Tweets.csv')\n",
    "d.head(10)"
   ]
  },
  {
   "cell_type": "code",
   "execution_count": 5,
   "metadata": {
    "colab": {
     "base_uri": "https://localhost:8080/"
    },
    "id": "nD1Z84VsXQGW",
    "outputId": "7c5a80ce-1fad-455d-81d2-be23c3190aca",
    "scrolled": true
   },
   "outputs": [
    {
     "name": "stdout",
     "output_type": "stream",
     "text": [
      "<class 'pandas.core.frame.DataFrame'>\n",
      "RangeIndex: 6941 entries, 0 to 6940\n",
      "Data columns (total 1 columns):\n",
      "Text    6941 non-null object\n",
      "dtypes: object(1)\n",
      "memory usage: 54.4+ KB\n"
     ]
    }
   ],
   "source": [
    "d.info()"
   ]
  },
  {
   "cell_type": "code",
   "execution_count": 6,
   "metadata": {
    "id": "x_UL-nTBXQGW"
   },
   "outputs": [],
   "source": [
    "def process_data(df):\n",
    "    text_emoji = re.compile('[\\U00010000-\\U0010ffff]', flags=re.UNICODE)\n",
    "    text_links = re.compile('httpstco[a-zA-Z0-9]+')\n",
    "    text_rts = re.compile('RT [A-Za-z0-9]+')\n",
    "    text_schar = re.compile('[^A-Za-z0-9 ]+')\n",
    "    text_nums = re.compile('[0-9]+')\n",
    "    \n",
    "    for i in range(len(df)):\n",
    "        txt=df[\"Text\"].iloc[i]\n",
    "        txt=text_emoji.sub(r'',txt)\n",
    "        temp=txt.translate(txt.maketrans('','',string.punctuation))\n",
    "        temp=text_links.sub(r'',temp)\n",
    "        temp=text_rts.sub(r'',temp)        \n",
    "        temp=text_schar.sub(r'',temp)\n",
    "        temp=text_nums.sub(r'',temp)\n",
    "        temp = unicodedata.normalize('NFKD',temp).encode('ascii', 'ignore').decode('utf-8', 'ignore')\n",
    "        df[\"Text\"].iloc[i] = temp.lower()\n",
    "    return df   "
   ]
  },
  {
   "cell_type": "code",
   "execution_count": 8,
   "metadata": {
    "colab": {
     "base_uri": "https://localhost:8080/",
     "height": 538
    },
    "id": "25mwb4sAXQGX",
    "outputId": "e143f295-685c-4cb0-8e20-b215af8ffec8",
    "scrolled": true
   },
   "outputs": [
    {
     "data": {
      "text/html": [
       "<div>\n",
       "<style scoped>\n",
       "    .dataframe tbody tr th:only-of-type {\n",
       "        vertical-align: middle;\n",
       "    }\n",
       "\n",
       "    .dataframe tbody tr th {\n",
       "        vertical-align: top;\n",
       "    }\n",
       "\n",
       "    .dataframe thead th {\n",
       "        text-align: right;\n",
       "    }\n",
       "</style>\n",
       "<table border=\"1\" class=\"dataframe\">\n",
       "  <thead>\n",
       "    <tr style=\"text-align: right;\">\n",
       "      <th></th>\n",
       "      <th>Text</th>\n",
       "    </tr>\n",
       "  </thead>\n",
       "  <tbody>\n",
       "    <tr>\n",
       "      <th>0</th>\n",
       "      <td>should we talk about ilandthere are surprisin...</td>\n",
       "    </tr>\n",
       "    <tr>\n",
       "      <th>1</th>\n",
       "      <td>yes suicide is haram but makingsomeones life ...</td>\n",
       "    </tr>\n",
       "    <tr>\n",
       "      <th>2</th>\n",
       "      <td>i am stressed i am depressed here we go again...</td>\n",
       "    </tr>\n",
       "    <tr>\n",
       "      <th>3</th>\n",
       "      <td>always learn how to be strong alone</td>\n",
       "    </tr>\n",
       "    <tr>\n",
       "      <th>4</th>\n",
       "      <td>catarllna should i add another one then</td>\n",
       "    </tr>\n",
       "    <tr>\n",
       "      <th>5</th>\n",
       "      <td>if you wanna see me at bass canyon or lost la...</td>\n",
       "    </tr>\n",
       "    <tr>\n",
       "      <th>6</th>\n",
       "      <td>this is the underside of my worldof course you...</td>\n",
       "    </tr>\n",
       "    <tr>\n",
       "      <th>7</th>\n",
       "      <td>i dont care if you are working i dont care if...</td>\n",
       "    </tr>\n",
       "    <tr>\n",
       "      <th>8</th>\n",
       "      <td>within the new york state park police alone  ...</td>\n",
       "    </tr>\n",
       "    <tr>\n",
       "      <th>9</th>\n",
       "      <td>im literally tired</td>\n",
       "    </tr>\n",
       "  </tbody>\n",
       "</table>\n",
       "</div>"
      ],
      "text/plain": [
       "                                                Text\n",
       "0   should we talk about ilandthere are surprisin...\n",
       "1   yes suicide is haram but makingsomeones life ...\n",
       "2   i am stressed i am depressed here we go again...\n",
       "3                always learn how to be strong alone\n",
       "4           catarllna should i add another one then \n",
       "5   if you wanna see me at bass canyon or lost la...\n",
       "6  this is the underside of my worldof course you...\n",
       "7   i dont care if you are working i dont care if...\n",
       "8   within the new york state park police alone  ...\n",
       "9                                 im literally tired"
      ]
     },
     "execution_count": 8,
     "metadata": {},
     "output_type": "execute_result"
    }
   ],
   "source": [
    "df = process_data(d.copy())\n",
    "df.head(10)"
   ]
  },
  {
   "cell_type": "code",
   "execution_count": 9,
   "metadata": {
    "id": "Pb-CZ-fAXQGY"
   },
   "outputs": [],
   "source": [
    "def further_ops(df):\n",
    "    for i in range(len(df)):\n",
    "        tweet = df[\"Text\"].iloc[i]\n",
    "        tweet = contractions.fix(tweet)\n",
    "        token = word_tokenize(tweet)\n",
    "        token_no_sw = [word for word in token if word not in stopwords.words()]\n",
    "        lemmatizer = WordNetLemmatizer()\n",
    "        lemm_token = [lemmatizer.lemmatize(word) for word in token_no_sw]\n",
    "        df[\"Text\"].iloc[i] = \" \".join(lemm_token)\n",
    "    return df    "
   ]
  },
  {
   "cell_type": "code",
   "execution_count": 10,
   "metadata": {
    "id": "G2prbXWpXQGY",
    "outputId": "45195be8-b5f0-4fdb-dd8d-8f1ef7f9b9b8"
   },
   "outputs": [
    {
     "data": {
      "text/html": [
       "<div>\n",
       "<style scoped>\n",
       "    .dataframe tbody tr th:only-of-type {\n",
       "        vertical-align: middle;\n",
       "    }\n",
       "\n",
       "    .dataframe tbody tr th {\n",
       "        vertical-align: top;\n",
       "    }\n",
       "\n",
       "    .dataframe thead th {\n",
       "        text-align: right;\n",
       "    }\n",
       "</style>\n",
       "<table border=\"1\" class=\"dataframe\">\n",
       "  <thead>\n",
       "    <tr style=\"text-align: right;\">\n",
       "      <th></th>\n",
       "      <th>Text</th>\n",
       "    </tr>\n",
       "  </thead>\n",
       "  <tbody>\n",
       "    <tr>\n",
       "      <th>0</th>\n",
       "      <td>talk ilandthere surprisingly lot people like i...</td>\n",
       "    </tr>\n",
       "    <tr>\n",
       "      <th>1</th>\n",
       "      <td>yes suicide haram makingsomeones life miserabl...</td>\n",
       "    </tr>\n",
       "    <tr>\n",
       "      <th>2</th>\n",
       "      <td>stress depress go need somebody talk</td>\n",
       "    </tr>\n",
       "    <tr>\n",
       "      <th>3</th>\n",
       "      <td>always learn strong alone</td>\n",
       "    </tr>\n",
       "    <tr>\n",
       "      <th>4</th>\n",
       "      <td>catarllna add another</td>\n",
       "    </tr>\n",
       "    <tr>\n",
       "      <th>5</th>\n",
       "      <td>wan see bass canyon lose land fill survey thin...</td>\n",
       "    </tr>\n",
       "    <tr>\n",
       "      <th>6</th>\n",
       "      <td>underside worldof course dont stupid bles iiiii</td>\n",
       "    </tr>\n",
       "    <tr>\n",
       "      <th>7</th>\n",
       "      <td>dont work dont mall brain fill poison edg</td>\n",
       "    </tr>\n",
       "    <tr>\n",
       "      <th>8</th>\n",
       "      <td>within new york state park police alone office...</td>\n",
       "    </tr>\n",
       "    <tr>\n",
       "      <th>9</th>\n",
       "      <td>literally tire</td>\n",
       "    </tr>\n",
       "  </tbody>\n",
       "</table>\n",
       "</div>"
      ],
      "text/plain": [
       "                                                Text\n",
       "0  talk ilandthere surprisingly lot people like i...\n",
       "1  yes suicide haram makingsomeones life miserabl...\n",
       "2               stress depress go need somebody talk\n",
       "3                          always learn strong alone\n",
       "4                              catarllna add another\n",
       "5  wan see bass canyon lose land fill survey thin...\n",
       "6    underside worldof course dont stupid bles iiiii\n",
       "7          dont work dont mall brain fill poison edg\n",
       "8  within new york state park police alone office...\n",
       "9                                     literally tire"
      ]
     },
     "execution_count": 10,
     "metadata": {},
     "output_type": "execute_result"
    }
   ],
   "source": [
    "dft = further_ops(df.copy())\n",
    "dft.head(10)"
   ]
  },
  {
   "cell_type": "code",
   "execution_count": 11,
   "metadata": {
    "id": "WzdQhJrk2Ucp"
   },
   "outputs": [],
   "source": [
    "index = df[df[\"Text\"]==\"\"].index\n",
    "df.drop(index,inplace=True)\n",
    "df = df.reset_index(drop=\"True\")"
   ]
  },
  {
   "cell_type": "code",
   "execution_count": 13,
   "metadata": {
    "id": "7KxDacm5XQGZ",
    "outputId": "9460ac3b-8909-418c-e69a-78e9377b7a11",
    "scrolled": false
   },
   "outputs": [
    {
     "name": "stdout",
     "output_type": "stream",
     "text": [
      "<class 'pandas.core.frame.DataFrame'>\n",
      "RangeIndex: 6294 entries, 0 to 6293\n",
      "Data columns (total 1 columns):\n",
      "Text    6294 non-null object\n",
      "dtypes: object(1)\n",
      "memory usage: 49.3+ KB\n"
     ]
    }
   ],
   "source": [
    "d.info()"
   ]
  },
  {
   "cell_type": "code",
   "execution_count": 14,
   "metadata": {
    "id": "R0x2KiaXXQGa"
   },
   "outputs": [],
   "source": [
    "d.to_csv('Processed_tweets.csv')"
   ]
  }
 ],
 "metadata": {
  "colab": {
   "collapsed_sections": [],
   "name": "preprocess_tweets.ipynb",
   "provenance": []
  },
  "interpreter": {
   "hash": "31f2aee4e71d21fbe5cf8b01ff0e069b9275f58929596ceb00d14d90e3e16cd6"
  },
  "kernelspec": {
   "display_name": "Python 3",
   "language": "python",
   "name": "python3"
  },
  "language_info": {
   "codemirror_mode": {
    "name": "ipython",
    "version": 3
   },
   "file_extension": ".py",
   "mimetype": "text/x-python",
   "name": "python",
   "nbconvert_exporter": "python",
   "pygments_lexer": "ipython3",
   "version": "3.5.6"
  }
 },
 "nbformat": 4,
 "nbformat_minor": 1
}
