{
 "cells": [
  {
   "cell_type": "code",
   "execution_count": 1,
   "metadata": {},
   "outputs": [],
   "source": [
    "import pandas as pd\n",
    "import json\n",
    "import re\n",
    "import string\n",
    "from nltk.tokenize import word_tokenize\n",
    "from nltk.corpus import stopwords\n",
    "from nltk.stem.wordnet import WordNetLemmatizer"
   ]
  },
  {
   "cell_type": "code",
   "execution_count": 2,
   "metadata": {},
   "outputs": [],
   "source": [
    "raw_tweets_text=[]\n",
    "\n",
    "def get_data(url):\n",
    "    with open(url) as fp:\n",
    "        for line in fp:\n",
    "            tweet_as_dict=json.loads(line)\n",
    "            raw_tweets_text.append(tweet_as_dict['text'])\n",
    "    convert_to_csv()\n",
    "\n",
    "def convert_to_csv():    \n",
    "    df=pd.DataFrame(raw_tweets_text)\n",
    "    df.to_csv('tweets.csv')"
   ]
  },
  {
   "cell_type": "code",
   "execution_count": 3,
   "metadata": {},
   "outputs": [],
   "source": [
    "get_data('tweets_file.txt')"
   ]
  },
  {
   "cell_type": "code",
   "execution_count": 4,
   "metadata": {
    "scrolled": true
   },
   "outputs": [
    {
     "data": {
      "text/html": [
       "<div>\n",
       "<style scoped>\n",
       "    .dataframe tbody tr th:only-of-type {\n",
       "        vertical-align: middle;\n",
       "    }\n",
       "\n",
       "    .dataframe tbody tr th {\n",
       "        vertical-align: top;\n",
       "    }\n",
       "\n",
       "    .dataframe thead th {\n",
       "        text-align: right;\n",
       "    }\n",
       "</style>\n",
       "<table border=\"1\" class=\"dataframe\">\n",
       "  <thead>\n",
       "    <tr style=\"text-align: right;\">\n",
       "      <th></th>\n",
       "      <th>Text</th>\n",
       "    </tr>\n",
       "  </thead>\n",
       "  <tbody>\n",
       "    <tr>\n",
       "      <th>0</th>\n",
       "      <td>RT @SarkySage: As my account grows it’s more d...</td>\n",
       "    </tr>\n",
       "    <tr>\n",
       "      <th>1</th>\n",
       "      <td>RT @theseoulstory: B.I releases a lyric video ...</td>\n",
       "    </tr>\n",
       "    <tr>\n",
       "      <th>2</th>\n",
       "      <td>@7stargalaxy I genuinely can't even imagine fo...</td>\n",
       "    </tr>\n",
       "    <tr>\n",
       "      <th>3</th>\n",
       "      <td>RT @minunivers: \"If there’s a name i call you ...</td>\n",
       "    </tr>\n",
       "    <tr>\n",
       "      <th>4</th>\n",
       "      <td>Scary af. And plausible.</td>\n",
       "    </tr>\n",
       "    <tr>\n",
       "      <th>5</th>\n",
       "      <td>Track and Trace are utterly useless. The proof...</td>\n",
       "    </tr>\n",
       "    <tr>\n",
       "      <th>6</th>\n",
       "      <td>We camped out because we NEVER lost faith in t...</td>\n",
       "    </tr>\n",
       "    <tr>\n",
       "      <th>7</th>\n",
       "      <td>RT @possum_bimbo: Should I do it? https://t.co...</td>\n",
       "    </tr>\n",
       "    <tr>\n",
       "      <th>8</th>\n",
       "      <td>RT @Deepak11412544: BHPV merged with BHEL on 3...</td>\n",
       "    </tr>\n",
       "    <tr>\n",
       "      <th>9</th>\n",
       "      <td>RT @maria_aat6: I checked the results from the...</td>\n",
       "    </tr>\n",
       "  </tbody>\n",
       "</table>\n",
       "</div>"
      ],
      "text/plain": [
       "                                                Text\n",
       "0  RT @SarkySage: As my account grows it’s more d...\n",
       "1  RT @theseoulstory: B.I releases a lyric video ...\n",
       "2  @7stargalaxy I genuinely can't even imagine fo...\n",
       "3  RT @minunivers: \"If there’s a name i call you ...\n",
       "4                           Scary af. And plausible.\n",
       "5  Track and Trace are utterly useless. The proof...\n",
       "6  We camped out because we NEVER lost faith in t...\n",
       "7  RT @possum_bimbo: Should I do it? https://t.co...\n",
       "8  RT @Deepak11412544: BHPV merged with BHEL on 3...\n",
       "9  RT @maria_aat6: I checked the results from the..."
      ]
     },
     "execution_count": 4,
     "metadata": {},
     "output_type": "execute_result"
    }
   ],
   "source": [
    "d = pd.read_csv(\"tweets.csv\")\n",
    "d = d.drop(\"Unnamed: 0\",axis=1)\n",
    "d = d.rename(columns={\"0\":\"Text\"})\n",
    "d.head(10)"
   ]
  },
  {
   "cell_type": "code",
   "execution_count": 5,
   "metadata": {},
   "outputs": [
    {
     "name": "stdout",
     "output_type": "stream",
     "text": [
      "<class 'pandas.core.frame.DataFrame'>\n",
      "RangeIndex: 6307 entries, 0 to 6306\n",
      "Data columns (total 1 columns):\n",
      " #   Column  Non-Null Count  Dtype \n",
      "---  ------  --------------  ----- \n",
      " 0   Text    6307 non-null   object\n",
      "dtypes: object(1)\n",
      "memory usage: 49.4+ KB\n"
     ]
    }
   ],
   "source": [
    "d.info()"
   ]
  },
  {
   "cell_type": "code",
   "execution_count": 6,
   "metadata": {},
   "outputs": [],
   "source": [
    "def process_data(df):\n",
    "    text_emoji = re.compile('[\\U00010000-\\U0010ffff]', flags=re.UNICODE)\n",
    "    text_links = re.compile('httpstco[a-zA-Z0-9]+')\n",
    "    text_rts = re.compile('RT [A-Za-z0-9]+')\n",
    "    text_schar = re.compile('[^A-Za-z0-9 ]+')\n",
    "    text_nums = re.compile('[0-9]+')\n",
    "    \n",
    "    for i in range(len(df)):\n",
    "        txt=df[\"Text\"].iloc[i]\n",
    "        txt=text_emoji.sub(r'',txt)\n",
    "        temp=txt.translate(txt.maketrans('','',string.punctuation))\n",
    "        temp=text_links.sub(r'',temp)\n",
    "        temp=text_rts.sub(r'',temp)        \n",
    "        temp=text_schar.sub(r'',temp)\n",
    "        temp=text_nums.sub(r'',temp)\n",
    "        df[\"Text\"].iloc[i] = temp.lower()"
   ]
  },
  {
   "cell_type": "code",
   "execution_count": 7,
   "metadata": {},
   "outputs": [
    {
     "data": {
      "text/html": [
       "<div>\n",
       "<style scoped>\n",
       "    .dataframe tbody tr th:only-of-type {\n",
       "        vertical-align: middle;\n",
       "    }\n",
       "\n",
       "    .dataframe tbody tr th {\n",
       "        vertical-align: top;\n",
       "    }\n",
       "\n",
       "    .dataframe thead th {\n",
       "        text-align: right;\n",
       "    }\n",
       "</style>\n",
       "<table border=\"1\" class=\"dataframe\">\n",
       "  <thead>\n",
       "    <tr style=\"text-align: right;\">\n",
       "      <th></th>\n",
       "      <th>Text</th>\n",
       "    </tr>\n",
       "  </thead>\n",
       "  <tbody>\n",
       "    <tr>\n",
       "      <th>0</th>\n",
       "      <td>as my account grows its more difficult to kee...</td>\n",
       "    </tr>\n",
       "    <tr>\n",
       "      <th>1</th>\n",
       "      <td>bi releases a lyric video for his collab song...</td>\n",
       "    </tr>\n",
       "    <tr>\n",
       "      <th>2</th>\n",
       "      <td>stargalaxy i genuinely cant even imagine for a...</td>\n",
       "    </tr>\n",
       "    <tr>\n",
       "      <th>3</th>\n",
       "      <td>if theres a name i call you by should i call ...</td>\n",
       "    </tr>\n",
       "    <tr>\n",
       "      <th>4</th>\n",
       "      <td>scary af and plausible</td>\n",
       "    </tr>\n",
       "    <tr>\n",
       "      <th>5</th>\n",
       "      <td>track and trace are utterly useless the proof ...</td>\n",
       "    </tr>\n",
       "    <tr>\n",
       "      <th>6</th>\n",
       "      <td>we camped out because we never lost faith in t...</td>\n",
       "    </tr>\n",
       "    <tr>\n",
       "      <th>7</th>\n",
       "      <td>should i do it</td>\n",
       "    </tr>\n",
       "    <tr>\n",
       "      <th>8</th>\n",
       "      <td>bhpv merged with bhel on  this i am not sayin...</td>\n",
       "    </tr>\n",
       "    <tr>\n",
       "      <th>9</th>\n",
       "      <td>i checked the results from the last two weeks...</td>\n",
       "    </tr>\n",
       "  </tbody>\n",
       "</table>\n",
       "</div>"
      ],
      "text/plain": [
       "                                                Text\n",
       "0   as my account grows its more difficult to kee...\n",
       "1   bi releases a lyric video for his collab song...\n",
       "2  stargalaxy i genuinely cant even imagine for a...\n",
       "3   if theres a name i call you by should i call ...\n",
       "4                             scary af and plausible\n",
       "5  track and trace are utterly useless the proof ...\n",
       "6  we camped out because we never lost faith in t...\n",
       "7                                    should i do it \n",
       "8   bhpv merged with bhel on  this i am not sayin...\n",
       "9   i checked the results from the last two weeks..."
      ]
     },
     "execution_count": 7,
     "metadata": {},
     "output_type": "execute_result"
    }
   ],
   "source": [
    "process_data(d)\n",
    "d.head(10)"
   ]
  },
  {
   "cell_type": "code",
   "execution_count": 8,
   "metadata": {},
   "outputs": [],
   "source": [
    "def further_ops(df):\n",
    "\n",
    "    for i in range(len(df)):\n",
    "        tweet = df[\"Text\"].iloc[i]\n",
    "        token = word_tokenize(tweet)\n",
    "        token_no_sw = [word for word in token if word not in stopwords.words()]\n",
    "        lemmatizer = WordNetLemmatizer()\n",
    "        lemm_token = [lemmatizer.lemmatize(word,'v') for word in token_no_sw]\n",
    "        df[\"Text\"].iloc[i] = \" \".join(lemm_token)"
   ]
  },
  {
   "cell_type": "code",
   "execution_count": 9,
   "metadata": {},
   "outputs": [
    {
     "data": {
      "text/html": [
       "<div>\n",
       "<style scoped>\n",
       "    .dataframe tbody tr th:only-of-type {\n",
       "        vertical-align: middle;\n",
       "    }\n",
       "\n",
       "    .dataframe tbody tr th {\n",
       "        vertical-align: top;\n",
       "    }\n",
       "\n",
       "    .dataframe thead th {\n",
       "        text-align: right;\n",
       "    }\n",
       "</style>\n",
       "<table border=\"1\" class=\"dataframe\">\n",
       "  <thead>\n",
       "    <tr style=\"text-align: right;\">\n",
       "      <th></th>\n",
       "      <th>Text</th>\n",
       "    </tr>\n",
       "  </thead>\n",
       "  <tbody>\n",
       "    <tr>\n",
       "      <th>0</th>\n",
       "      <td>account grow difficult keep track people activ...</td>\n",
       "    </tr>\n",
       "    <tr>\n",
       "      <th>1</th>\n",
       "      <td>release lyric video collab song bipolar sunshi...</td>\n",
       "    </tr>\n",
       "    <tr>\n",
       "      <th>2</th>\n",
       "      <td>stargalaxy genuinely cant even imagine second ...</td>\n",
       "    </tr>\n",
       "    <tr>\n",
       "      <th>3</th>\n",
       "      <td>theres call call spark call world always</td>\n",
       "    </tr>\n",
       "    <tr>\n",
       "      <th>4</th>\n",
       "      <td>scary plausible</td>\n",
       "    </tr>\n",
       "    <tr>\n",
       "      <th>5</th>\n",
       "      <td>track trace utterly useless proof covid spread...</td>\n",
       "    </tr>\n",
       "    <tr>\n",
       "      <th>6</th>\n",
       "      <td>camp never lose faith team proud aggie remembe...</td>\n",
       "    </tr>\n",
       "    <tr>\n",
       "      <th>7</th>\n",
       "      <td></td>\n",
       "    </tr>\n",
       "    <tr>\n",
       "      <th>8</th>\n",
       "      <td>bhpv merge bhel say announce lok sabha ncbn lo...</td>\n",
       "    </tr>\n",
       "    <tr>\n",
       "      <th>9</th>\n",
       "      <td>check result last two weeks arround time sum n...</td>\n",
       "    </tr>\n",
       "  </tbody>\n",
       "</table>\n",
       "</div>"
      ],
      "text/plain": [
       "                                                Text\n",
       "0  account grow difficult keep track people activ...\n",
       "1  release lyric video collab song bipolar sunshi...\n",
       "2  stargalaxy genuinely cant even imagine second ...\n",
       "3           theres call call spark call world always\n",
       "4                                    scary plausible\n",
       "5  track trace utterly useless proof covid spread...\n",
       "6  camp never lose faith team proud aggie remembe...\n",
       "7                                                   \n",
       "8  bhpv merge bhel say announce lok sabha ncbn lo...\n",
       "9  check result last two weeks arround time sum n..."
      ]
     },
     "execution_count": 9,
     "metadata": {},
     "output_type": "execute_result"
    }
   ],
   "source": [
    "further_ops(d)\n",
    "d.head(10)"
   ]
  },
  {
   "cell_type": "code",
   "execution_count": 10,
   "metadata": {},
   "outputs": [],
   "source": [
    "index = d[d[\"Text\"]==\"\"].index\n",
    "d.drop(index,inplace=True)"
   ]
  },
  {
   "cell_type": "code",
   "execution_count": 11,
   "metadata": {},
   "outputs": [],
   "source": [
    "d = d.reset_index()"
   ]
  },
  {
   "cell_type": "code",
   "execution_count": 12,
   "metadata": {
    "scrolled": false
   },
   "outputs": [
    {
     "name": "stdout",
     "output_type": "stream",
     "text": [
      "<class 'pandas.core.frame.DataFrame'>\n",
      "RangeIndex: 6294 entries, 0 to 6293\n",
      "Data columns (total 2 columns):\n",
      " #   Column  Non-Null Count  Dtype \n",
      "---  ------  --------------  ----- \n",
      " 0   index   6294 non-null   int64 \n",
      " 1   Text    6294 non-null   object\n",
      "dtypes: int64(1), object(1)\n",
      "memory usage: 98.5+ KB\n"
     ]
    }
   ],
   "source": [
    "d.info()"
   ]
  },
  {
   "cell_type": "code",
   "execution_count": 13,
   "metadata": {},
   "outputs": [],
   "source": [
    "d.to_csv('processed_tweets.csv')"
   ]
  }
 ],
 "metadata": {
  "interpreter": {
   "hash": "31f2aee4e71d21fbe5cf8b01ff0e069b9275f58929596ceb00d14d90e3e16cd6"
  },
  "kernelspec": {
   "display_name": "Python 3.8.10 64-bit",
   "name": "python3"
  },
  "language_info": {
   "file_extension": ".py",
   "mimetype": "text/x-python",
   "name": "python",
   "nbconvert_exporter": "python",
   "pygments_lexer": "ipython3",
   "version": "3.8.10"
   "pygments_lexer": "ipython3",
   "nbconvert_exporter": "python",
   "file_extension": ".py"
  },
  "kernelspec": {
   "name": "python3",
   "display_name": "Python 3.8.10 64-bit"
  },
  "interpreter": {
   "hash": "31f2aee4e71d21fbe5cf8b01ff0e069b9275f58929596ceb00d14d90e3e16cd6"
}