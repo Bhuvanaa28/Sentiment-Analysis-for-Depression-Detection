{
 "cells": [
  {
   "cell_type": "code",
   "execution_count": 19,
   "source": [
    "import json\n",
    "import re\n",
    "import nltk\n",
    "import pandas as pd\n",
    "import string"
   ],
   "outputs": [],
   "metadata": {}
  },
  {
   "cell_type": "code",
   "execution_count": 18,
   "source": [
    "nltk.download('punkt')\n",
    "from nltk.corpus import stopwords\n",
    "nltk.download('stopwords')\n",
    "from nltk.stem import WordNetLemmatizer\n",
    "nltk.download('wordnet')"
   ],
   "outputs": [
    {
     "output_type": "stream",
     "name": "stderr",
     "text": [
      "[nltk_data] Downloading package punkt to /home/adikumar/nltk_data...\n",
      "[nltk_data]   Package punkt is already up-to-date!\n",
      "[nltk_data] Downloading package stopwords to\n",
      "[nltk_data]     /home/adikumar/nltk_data...\n",
      "[nltk_data]   Package stopwords is already up-to-date!\n",
      "[nltk_data] Downloading package wordnet to /home/adikumar/nltk_data...\n",
      "[nltk_data]   Package wordnet is already up-to-date!\n"
     ]
    },
    {
     "output_type": "execute_result",
     "data": {
      "text/plain": [
       "True"
      ]
     },
     "metadata": {},
     "execution_count": 18
    }
   ],
   "metadata": {}
  },
  {
   "cell_type": "code",
   "execution_count": 3,
   "source": [
    "raw_tweets_text=[]\n",
    "processed_txt=[]\n",
    "\n",
    "def get_data(url):\n",
    "    with open(url) as fp:\n",
    "        for line in fp:\n",
    "            tweet_as_dict=json.loads(line)\n",
    "            raw_tweets_text.append(tweet_as_dict)\n",
    "    process_data()\n",
    "\n",
    "def process_data():\n",
    "    text_emoji = re.compile('[\\U00010000-\\U0010ffff]', flags=re.UNICODE)\n",
    "    text_links = re.compile('httpstco[a-zA-Z0-9]+')\n",
    "    text_rts = re.compile('RT [A-Za-z0-9]+')\n",
    "    text_nums = re.compile('[0-9]+')\n",
    "    for i in range(len(raw_tweets_text)):\n",
    "        txt=raw_tweets_text[i]['text']\n",
    "        txt=text_emoji.sub(r'',txt)\n",
    "        temp=txt.translate(txt.maketrans('','',string.punctuation))\n",
    "        temp=text_links.sub(r'',temp)\n",
    "        temp=text_rts.sub(r'',temp)\n",
    "        temp=text_nums.sub(r'',temp)\n",
    "        processed_txt.append(temp)"
   ],
   "outputs": [],
   "metadata": {}
  },
  {
   "cell_type": "code",
   "execution_count": 4,
   "source": [
    "df_rows=[]\n",
    "def further_ops():\n",
    "\n",
    "    for tweet in processed_txt:\n",
    "        row=[]\n",
    "        token=nltk.word_tokenize(tweet)\n",
    "        token_no_sw=[word for word in token if word not in stopwords.words()]\n",
    "        lemmatizer=WordNetLemmatizer()\n",
    "        lemm_token=[lemmatizer.lemmatize(word) for word in token_no_sw]\n",
    "        for word in lemm_token:\n",
    "            row.append(word)\n",
    "        df_rows.append(row)"
   ],
   "outputs": [],
   "metadata": {}
  },
  {
   "cell_type": "code",
   "execution_count": 16,
   "source": [
    "def convert_to_csv():\n",
    "    \n",
    "    df=pd.DataFrame(df_rows)\n",
    "    df.to_csv('tweets.csv')"
   ],
   "outputs": [],
   "metadata": {}
  },
  {
   "cell_type": "code",
   "execution_count": 7,
   "source": [
    "get_data('tweets_file.txt')\n",
    "further_ops()"
   ],
   "outputs": [],
   "metadata": {}
  },
  {
   "cell_type": "code",
   "execution_count": 17,
   "source": [
    "convert_to_csv()"
   ],
   "outputs": [],
   "metadata": {}
  }
 ],
 "metadata": {
  "orig_nbformat": 4,
  "language_info": {
   "name": "python",
   "version": "3.8.10",
   "mimetype": "text/x-python",
   "codemirror_mode": {
    "name": "ipython",
    "version": 3
   },
   "pygments_lexer": "ipython3",
   "nbconvert_exporter": "python",
   "file_extension": ".py"
  },
  "kernelspec": {
   "name": "python3",
   "display_name": "Python 3.8.10 64-bit"
  },
  "interpreter": {
   "hash": "31f2aee4e71d21fbe5cf8b01ff0e069b9275f58929596ceb00d14d90e3e16cd6"
  }
 },
 "nbformat": 4,
 "nbformat_minor": 2
}