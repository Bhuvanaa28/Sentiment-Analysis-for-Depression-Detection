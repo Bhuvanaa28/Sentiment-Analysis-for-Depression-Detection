{
  "cells": [
    {
      "cell_type": "markdown",
      "metadata": {
        "id": "lqZ7eyet7iq4"
      },
      "source": [
        "# FEATURE EXTRACTION"
      ]
    },
    {
      "cell_type": "code",
      "execution_count": 2,
      "metadata": {
        "id": "_GDYPmR_7iq8"
      },
      "outputs": [],
      "source": [
        "import pandas as pd\n",
        "from textblob import TextBlob"
      ]
    },
    {
      "cell_type": "code",
      "execution_count": 3,
      "metadata": {
        "id": "SMCapIuf7iq-",
        "outputId": "1c133e96-c5d0-4640-e9fc-8f0ec87e38d2",
        "scrolled": true
      },
      "outputs": [
        {
          "data": {
            "text/html": [
              "<div>\n",
              "<style scoped>\n",
              "    .dataframe tbody tr th:only-of-type {\n",
              "        vertical-align: middle;\n",
              "    }\n",
              "\n",
              "    .dataframe tbody tr th {\n",
              "        vertical-align: top;\n",
              "    }\n",
              "\n",
              "    .dataframe thead th {\n",
              "        text-align: right;\n",
              "    }\n",
              "</style>\n",
              "<table border=\"1\" class=\"dataframe\">\n",
              "  <thead>\n",
              "    <tr style=\"text-align: right;\">\n",
              "      <th></th>\n",
              "      <th>Text</th>\n",
              "    </tr>\n",
              "  </thead>\n",
              "  <tbody>\n",
              "    <tr>\n",
              "      <th>0</th>\n",
              "      <td>account grow difficult keep track people activ...</td>\n",
              "    </tr>\n",
              "    <tr>\n",
              "      <th>1</th>\n",
              "      <td>release lyric video collab song bipolar sunshi...</td>\n",
              "    </tr>\n",
              "    <tr>\n",
              "      <th>2</th>\n",
              "      <td>stargalaxy genuinely cant even imagine second ...</td>\n",
              "    </tr>\n",
              "    <tr>\n",
              "      <th>3</th>\n",
              "      <td>theres call call spark call world always</td>\n",
              "    </tr>\n",
              "    <tr>\n",
              "      <th>4</th>\n",
              "      <td>scary plausible</td>\n",
              "    </tr>\n",
              "    <tr>\n",
              "      <th>5</th>\n",
              "      <td>track trace utterly useless proof covid spread...</td>\n",
              "    </tr>\n",
              "    <tr>\n",
              "      <th>6</th>\n",
              "      <td>camp never lose faith team proud aggie remembe...</td>\n",
              "    </tr>\n",
              "    <tr>\n",
              "      <th>7</th>\n",
              "      <td>bhpv merge bhel say announce lok sabha ncbn lo...</td>\n",
              "    </tr>\n",
              "    <tr>\n",
              "      <th>8</th>\n",
              "      <td>check result last two weeks arround time sum n...</td>\n",
              "    </tr>\n",
              "    <tr>\n",
              "      <th>9</th>\n",
              "      <td>see cabinet minister speak television deep thi...</td>\n",
              "    </tr>\n",
              "  </tbody>\n",
              "</table>\n",
              "</div>"
            ],
            "text/plain": [
              "                                                Text\n",
              "0  account grow difficult keep track people activ...\n",
              "1  release lyric video collab song bipolar sunshi...\n",
              "2  stargalaxy genuinely cant even imagine second ...\n",
              "3           theres call call spark call world always\n",
              "4                                    scary plausible\n",
              "5  track trace utterly useless proof covid spread...\n",
              "6  camp never lose faith team proud aggie remembe...\n",
              "7  bhpv merge bhel say announce lok sabha ncbn lo...\n",
              "8  check result last two weeks arround time sum n...\n",
              "9  see cabinet minister speak television deep thi..."
            ]
          },
          "execution_count": 3,
          "metadata": {},
          "output_type": "execute_result"
        }
      ],
      "source": [
        "d = pd.read_csv(\"processed_tweets.csv\")\n",
        "d = d.drop([\"Unnamed: 0\",\"index\"],axis=1)\n",
        "d = d.rename(columns={\"0\":\"Text\"})\n",
        "d.head(10)"
      ]
    },
    {
      "cell_type": "code",
      "execution_count": 4,
      "metadata": {
        "id": "I7nxATCq7irA",
        "outputId": "a11641df-495d-4702-85a0-a79628d7e0ce"
      },
      "outputs": [
        {
          "data": {
            "text/plain": [
              "Text    0\n",
              "dtype: int64"
            ]
          },
          "execution_count": 4,
          "metadata": {},
          "output_type": "execute_result"
        }
      ],
      "source": [
        "d.isna().sum()"
      ]
    },
    {
      "cell_type": "code",
      "execution_count": 5,
      "metadata": {
        "id": "hEJI9Hpq7irD"
      },
      "outputs": [],
      "source": [
        "d.dropna(inplace=True)"
      ]
    },
    {
      "cell_type": "code",
      "execution_count": 6,
      "metadata": {
        "id": "vAqxsBvO7irD",
        "outputId": "895e7609-3976-401f-bc73-073397e07f42",
        "scrolled": true
      },
      "outputs": [
        {
          "name": "stdout",
          "output_type": "stream",
          "text": [
            "<class 'pandas.core.frame.DataFrame'>\n",
            "Int64Index: 6294 entries, 0 to 6293\n",
            "Data columns (total 1 columns):\n",
            " #   Column  Non-Null Count  Dtype \n",
            "---  ------  --------------  ----- \n",
            " 0   Text    6294 non-null   object\n",
            "dtypes: object(1)\n",
            "memory usage: 98.3+ KB\n"
          ]
        }
      ],
      "source": [
        "d.info()"
      ]
    },
    {
      "cell_type": "code",
      "execution_count": 7,
      "metadata": {
        "id": "_GJ2kP7H7irE"
      },
      "outputs": [
        {
          "data": {
            "text/html": [
              "<div>\n",
              "<style scoped>\n",
              "    .dataframe tbody tr th:only-of-type {\n",
              "        vertical-align: middle;\n",
              "    }\n",
              "\n",
              "    .dataframe tbody tr th {\n",
              "        vertical-align: top;\n",
              "    }\n",
              "\n",
              "    .dataframe thead th {\n",
              "        text-align: right;\n",
              "    }\n",
              "</style>\n",
              "<table border=\"1\" class=\"dataframe\">\n",
              "  <thead>\n",
              "    <tr style=\"text-align: right;\">\n",
              "      <th></th>\n",
              "      <th>Text</th>\n",
              "      <th>Sentiment</th>\n",
              "    </tr>\n",
              "  </thead>\n",
              "  <tbody>\n",
              "    <tr>\n",
              "      <th>0</th>\n",
              "      <td>account grow difficult keep track people activ...</td>\n",
              "      <td>1</td>\n",
              "    </tr>\n",
              "    <tr>\n",
              "      <th>1</th>\n",
              "      <td>release lyric video collab song bipolar sunshi...</td>\n",
              "      <td>0</td>\n",
              "    </tr>\n",
              "    <tr>\n",
              "      <th>2</th>\n",
              "      <td>stargalaxy genuinely cant even imagine second ...</td>\n",
              "      <td>0</td>\n",
              "    </tr>\n",
              "    <tr>\n",
              "      <th>3</th>\n",
              "      <td>theres call call spark call world always</td>\n",
              "      <td>1</td>\n",
              "    </tr>\n",
              "    <tr>\n",
              "      <th>4</th>\n",
              "      <td>scary plausible</td>\n",
              "      <td>1</td>\n",
              "    </tr>\n",
              "    <tr>\n",
              "      <th>...</th>\n",
              "      <td>...</td>\n",
              "      <td>...</td>\n",
              "    </tr>\n",
              "    <tr>\n",
              "      <th>6289</th>\n",
              "      <td>yes champ tysonfury</td>\n",
              "      <td>1</td>\n",
              "    </tr>\n",
              "    <tr>\n",
              "      <th>6290</th>\n",
              "      <td>wonderful sikh taxi driver nyc mention previou...</td>\n",
              "      <td>0</td>\n",
              "    </tr>\n",
              "    <tr>\n",
              "      <th>6291</th>\n",
              "      <td>tire fellow brights bring back tl bbrightvcbbr...</td>\n",
              "      <td>1</td>\n",
              "    </tr>\n",
              "    <tr>\n",
              "      <th>6292</th>\n",
              "      <td>reminder onces dont mind haters theyll always ...</td>\n",
              "      <td>1</td>\n",
              "    </tr>\n",
              "    <tr>\n",
              "      <th>6293</th>\n",
              "      <td>say loneliness vibeyes agreebut remember youre...</td>\n",
              "      <td>1</td>\n",
              "    </tr>\n",
              "  </tbody>\n",
              "</table>\n",
              "<p>6294 rows × 2 columns</p>\n",
              "</div>"
            ],
            "text/plain": [
              "                                                   Text Sentiment\n",
              "0     account grow difficult keep track people activ...         1\n",
              "1     release lyric video collab song bipolar sunshi...         0\n",
              "2     stargalaxy genuinely cant even imagine second ...         0\n",
              "3              theres call call spark call world always         1\n",
              "4                                       scary plausible         1\n",
              "...                                                 ...       ...\n",
              "6289                                yes champ tysonfury         1\n",
              "6290  wonderful sikh taxi driver nyc mention previou...         0\n",
              "6291  tire fellow brights bring back tl bbrightvcbbr...         1\n",
              "6292  reminder onces dont mind haters theyll always ...         1\n",
              "6293  say loneliness vibeyes agreebut remember youre...         1\n",
              "\n",
              "[6294 rows x 2 columns]"
            ]
          },
          "execution_count": 7,
          "metadata": {},
          "output_type": "execute_result"
        }
      ],
      "source": [
        "n = len(d)\n",
        "d[\"Sentiment\"]=[None for i in range(n)]\n",
        "for i in range(n):\n",
        "    s = TextBlob(d[\"Text\"].iloc[i]).sentiment\n",
        "    if(s[0]>0):\n",
        "        d[\"Sentiment\"].iloc[i] = 0\n",
        "    else:\n",
        "        d[\"Sentiment\"].iloc[i] = 1\n",
        "d\n",
        "#0 sentiment means positive, 1 sentiment means negative"
      ]
    },
    {
      "cell_type": "code",
      "execution_count": 8,
      "metadata": {
        "id": "v_x19GQY7irF",
        "outputId": "c91818a7-9311-4209-9170-2c3ff47ca7de"
      },
      "outputs": [
        {
          "data": {
            "text/plain": [
              "(2153, 4141)"
            ]
          },
          "execution_count": 8,
          "metadata": {},
          "output_type": "execute_result"
        }
      ],
      "source": [
        "len(d[d[\"Sentiment\"]==0]), len(d[d[\"Sentiment\"]==1])"
      ]
    },
    {
      "cell_type": "code",
      "execution_count": 9,
      "metadata": {
        "id": "E3ZysWnB7irF"
      },
      "outputs": [
        {
          "data": {
            "text/plain": [
              "2153"
            ]
          },
          "execution_count": 9,
          "metadata": {},
          "output_type": "execute_result"
        }
      ],
      "source": [
        "no = len(d[d[\"Sentiment\"]==0])\n",
        "no"
      ]
    },
    {
      "cell_type": "code",
      "execution_count": 10,
      "metadata": {
        "id": "Gi1E27hY7irG"
      },
      "outputs": [],
      "source": [
        "t = d[d[\"Sentiment\"]==0]\n",
        "s = d[d[\"Sentiment\"]==1][:no]"
      ]
    },
    {
      "cell_type": "code",
      "execution_count": 11,
      "metadata": {
        "id": "LPg7JeOq7irG",
        "outputId": "0e71bd32-d360-4fab-b016-1ccfeb463723"
      },
      "outputs": [
        {
          "data": {
            "text/plain": [
              "4306"
            ]
          },
          "execution_count": 11,
          "metadata": {},
          "output_type": "execute_result"
        }
      ],
      "source": [
        "df = pd.concat([s,t],ignore_index=\"True\")\n",
        "len(df)"
      ]
    },
    {
      "cell_type": "code",
      "execution_count": 12,
      "metadata": {
        "id": "5DXr5Bdn7irH"
      },
      "outputs": [
        {
          "data": {
            "text/plain": [
              "<4306x8829 sparse matrix of type '<class 'numpy.int64'>'\n",
              "\twith 38279 stored elements in Compressed Sparse Row format>"
            ]
          },
          "execution_count": 12,
          "metadata": {},
          "output_type": "execute_result"
        }
      ],
      "source": [
        "from sklearn.feature_extraction.text import CountVectorizer\n",
        "from sklearn.feature_extraction.text import TfidfVectorizer\n",
        "\n",
        "cv = CountVectorizer()\n",
        "tf = TfidfVectorizer()\n",
        "x1 = cv.fit_transform(df[\"Text\"])\n",
        "x2 = tf.fit_transform(df[\"Text\"])\n",
        "y = df[\"Sentiment\"]\n",
        "y=y.astype('int')\n",
        "x1"
      ]
    },
    {
      "cell_type": "markdown",
      "metadata": {
        "id": "EWO4F6g87irH"
      },
      "source": [
        "# MODEL DEVELOPMENT AND EVALUATION"
      ]
    },
    {
      "cell_type": "markdown",
      "metadata": {
        "id": "1SpYy0Zm7irI"
      },
      "source": [
        "# Splitting into Train and Test Data"
      ]
    },
    {
      "cell_type": "code",
      "execution_count": 13,
      "metadata": {
        "id": "tYIxIqOi7irI"
      },
      "outputs": [],
      "source": [
        "from sklearn.model_selection import train_test_split\n",
        "\n",
        "x_train,x_test, y_train, y_test = train_test_split(x1,y,test_size=0.18,random_state=42)\n",
        "X_train, X_test, Y_train, Y_test = train_test_split(x2,y,test_size=0.2,random_state=42)"
      ]
    },
    {
      "cell_type": "markdown",
      "metadata": {
        "id": "CIbMo_HM7irI"
      },
      "source": [
        "# Model Training and Testing"
      ]
    },
    {
      "cell_type": "code",
      "execution_count": 14,
      "metadata": {
        "id": "xt-4sguv7irJ"
      },
      "outputs": [],
      "source": [
        "from sklearn import metrics\n",
        "\n",
        "accuracy = {}\n",
        "model = {}\n",
        "vectorizer = {\"CountVectorizer\":cv,\"TfidfVectorizer\":tf}"
      ]
    },
    {
      "cell_type": "markdown",
      "metadata": {
        "id": "3pNlCDlm7irJ"
      },
      "source": [
        "# Decision Tree Classifier"
      ]
    },
    {
      "cell_type": "markdown",
      "metadata": {
        "id": "b87Sz21T7irJ"
      },
      "source": [
        "### CountVectorizer"
      ]
    },
    {
      "cell_type": "code",
      "execution_count": 15,
      "metadata": {
        "id": "0aw1vWUE7irK"
      },
      "outputs": [],
      "source": [
        "from sklearn.tree import DecisionTreeClassifier\n",
        "\n",
        "dtc = DecisionTreeClassifier()\n",
        "dtc.fit(x_train,y_train)\n",
        "y_pred1 = dtc.predict(x_test)\n",
        "k = \"Decision Tree Classifier with CountVectorizer\"\n",
        "model[k] = dtc"
      ]
    },
    {
      "cell_type": "code",
      "execution_count": 16,
      "metadata": {
        "id": "gOFEKDDp7irK",
        "outputId": "fb34e1b0-7d7a-419a-fc63-2d3a2a9d25f8"
      },
      "outputs": [
        {
          "name": "stdout",
          "output_type": "stream",
          "text": [
            "Decision Tree Classifier with CountVectorizer\n",
            "Accuracy: 0.9162\n",
            "Recall  : 0.9373\n"
          ]
        }
      ],
      "source": [
        "a1 = metrics.accuracy_score(y_test, y_pred1)\n",
        "recall = metrics.recall_score(y_test, y_pred1)\n",
        "accuracy[k] = float(\"{0:.4f}\".format(a1))\n",
        "print(k)\n",
        "print(\"Accuracy:\",accuracy[k])\n",
        "print(\"Recall  : {0:.4f}\".format(recall))"
      ]
    },
    {
      "cell_type": "markdown",
      "metadata": {
        "id": "nz1MinVn7irL"
      },
      "source": [
        "### TfidfVectorizer"
      ]
    },
    {
      "cell_type": "code",
      "execution_count": 1,
      "metadata": {
        "id": "VmzIumgX7irL"
      },
      "outputs": [
        {
          "ename": "NameError",
          "evalue": "name 'DecisionTreeClassifier' is not defined",
          "output_type": "error",
          "traceback": [
            "\u001b[0;31m---------------------------------------------------------------------------\u001b[0m",
            "\u001b[0;31mNameError\u001b[0m                                 Traceback (most recent call last)",
            "\u001b[0;32m/tmp/ipykernel_2618/694593624.py\u001b[0m in \u001b[0;36m<module>\u001b[0;34m\u001b[0m\n\u001b[0;32m----> 1\u001b[0;31m \u001b[0mdtc\u001b[0m \u001b[0;34m=\u001b[0m \u001b[0mDecisionTreeClassifier\u001b[0m\u001b[0;34m(\u001b[0m\u001b[0;34m)\u001b[0m\u001b[0;34m\u001b[0m\u001b[0;34m\u001b[0m\u001b[0m\n\u001b[0m\u001b[1;32m      2\u001b[0m \u001b[0mdtc\u001b[0m\u001b[0;34m.\u001b[0m\u001b[0mfit\u001b[0m\u001b[0;34m(\u001b[0m\u001b[0mX_train\u001b[0m\u001b[0;34m,\u001b[0m\u001b[0mY_train\u001b[0m\u001b[0;34m)\u001b[0m\u001b[0;34m\u001b[0m\u001b[0;34m\u001b[0m\u001b[0m\n\u001b[1;32m      3\u001b[0m \u001b[0mY_pred1\u001b[0m \u001b[0;34m=\u001b[0m \u001b[0mdtc\u001b[0m\u001b[0;34m.\u001b[0m\u001b[0mpredict\u001b[0m\u001b[0;34m(\u001b[0m\u001b[0mX_test\u001b[0m\u001b[0;34m)\u001b[0m\u001b[0;34m\u001b[0m\u001b[0;34m\u001b[0m\u001b[0m\n\u001b[1;32m      4\u001b[0m \u001b[0mk\u001b[0m \u001b[0;34m=\u001b[0m \u001b[0;34m\"Decision Tree Classifier with TfidfVectorizer\"\u001b[0m\u001b[0;34m\u001b[0m\u001b[0;34m\u001b[0m\u001b[0m\n\u001b[1;32m      5\u001b[0m \u001b[0mmodel\u001b[0m\u001b[0;34m[\u001b[0m\u001b[0mk\u001b[0m\u001b[0;34m]\u001b[0m \u001b[0;34m=\u001b[0m \u001b[0mdtc\u001b[0m\u001b[0;34m\u001b[0m\u001b[0;34m\u001b[0m\u001b[0m\n",
            "\u001b[0;31mNameError\u001b[0m: name 'DecisionTreeClassifier' is not defined"
          ]
        }
      ],
      "source": [
        "dtc = DecisionTreeClassifier()\n",
        "dtc.fit(X_train,Y_train)\n",
        "Y_pred1 = dtc.predict(X_test)\n",
        "k = \"Decision Tree Classifier with TfidfVectorizer\"\n",
        "model[k] = dtc"
      ]
    },
    {
      "cell_type": "code",
      "execution_count": null,
      "metadata": {
        "id": "m6pzPU9O7irL",
        "outputId": "df2684cb-8ca2-4a27-f92b-672b1e25ba56"
      },
      "outputs": [
        {
          "name": "stdout",
          "output_type": "stream",
          "text": [
            "Decision Tree Classifier with TfidfVectorizer\n",
            "Accuracy: 0.9094\n",
            "Recall  : 0.9026\n"
          ]
        }
      ],
      "source": [
        "a2 = metrics.accuracy_score(Y_test, Y_pred1)\n",
        "recall = metrics.recall_score(Y_test, Y_pred1)\n",
        "accuracy[k] = float(\"{0:.4f}\".format(a2))\n",
        "print(k)\n",
        "print(\"Accuracy:\",accuracy[k])\n",
        "print(\"Recall  : {0:.4f}\".format(recall))"
      ]
    },
    {
      "cell_type": "markdown",
      "metadata": {
        "id": "tNodUBPC7irM"
      },
      "source": [
        "# Random Forest Classifier"
      ]
    },
    {
      "cell_type": "markdown",
      "metadata": {
        "id": "1Ii2sIh57irN"
      },
      "source": [
        "### CountVectorizer"
      ]
    },
    {
      "cell_type": "code",
      "execution_count": null,
      "metadata": {
        "id": "sdN5kf2t7irN"
      },
      "outputs": [],
      "source": [
        "from sklearn.ensemble import RandomForestClassifier\n",
        "\n",
        "rfc = RandomForestClassifier()\n",
        "rfc.fit(x_train,y_train)\n",
        "y_pred2 = rfc.predict(x_test)\n",
        "k = \"Random Forest Classifier with CountVectorizer\"\n",
        "model[k] = rfc"
      ]
    },
    {
      "cell_type": "code",
      "execution_count": null,
      "metadata": {
        "id": "TQI3wAWy7irN",
        "outputId": "06f4e1be-edbb-4944-8234-d4caa39fa272"
      },
      "outputs": [
        {
          "name": "stdout",
          "output_type": "stream",
          "text": [
            "Random Forest Classifier with CountVectorizer\n",
            "Accuracy: 0.914\n",
            "Recall  : 0.8739\n"
          ]
        }
      ],
      "source": [
        "a3 = metrics.accuracy_score(y_test, y_pred2)\n",
        "recall = metrics.recall_score(y_test, y_pred2)\n",
        "accuracy[k] = float(\"{0:.4f}\".format(a3))\n",
        "print(k)\n",
        "print(\"Accuracy:\",accuracy[k])\n",
        "print(\"Recall  : {0:.4f}\".format(recall))"
      ]
    },
    {
      "cell_type": "markdown",
      "metadata": {
        "id": "una2AIxJ7irO"
      },
      "source": [
        "### TfidfVectorizer"
      ]
    },
    {
      "cell_type": "code",
      "execution_count": null,
      "metadata": {
        "id": "enKYUA_C7irP",
        "scrolled": false
      },
      "outputs": [],
      "source": [
        "rfc = RandomForestClassifier()\n",
        "rfc.fit(X_train,Y_train)\n",
        "Y_pred2 = rfc.predict(X_test)\n",
        "k = \"Random Forest Classifier with TfidfVectorizer\"\n",
        "model[k] = rfc"
      ]
    },
    {
      "cell_type": "code",
      "execution_count": null,
      "metadata": {
        "id": "uL92-B_E7irP",
        "outputId": "820e82d3-304e-4e61-f1fa-505cb1b3adfc"
      },
      "outputs": [
        {
          "name": "stdout",
          "output_type": "stream",
          "text": [
            "Random Forest Classifier with TfidfVectorizer\n",
            "Accuracy: 0.9124\n",
            "Recall  : 0.8653\n"
          ]
        }
      ],
      "source": [
        "a4 = metrics.accuracy_score(Y_test, Y_pred2)\n",
        "recall = metrics.recall_score(Y_test, Y_pred2)\n",
        "accuracy[k] = float(\"{0:.4f}\".format(a4))\n",
        "print(k)\n",
        "print(\"Accuracy:\",accuracy[k])\n",
        "print(\"Recall  : {0:.4f}\".format(recall))"
      ]
    },
    {
      "cell_type": "code",
      "execution_count": null,
      "metadata": {
        "id": "B3nYG2yz7irQ",
        "outputId": "b7536e44-5698-441f-b1e0-4eb3a980b10f"
      },
      "outputs": [
        {
          "data": {
            "text/html": [
              "<div>\n",
              "<style scoped>\n",
              "    .dataframe tbody tr th:only-of-type {\n",
              "        vertical-align: middle;\n",
              "    }\n",
              "\n",
              "    .dataframe tbody tr th {\n",
              "        vertical-align: top;\n",
              "    }\n",
              "\n",
              "    .dataframe thead th {\n",
              "        text-align: right;\n",
              "    }\n",
              "</style>\n",
              "<table border=\"1\" class=\"dataframe\">\n",
              "  <thead>\n",
              "    <tr style=\"text-align: right;\">\n",
              "      <th></th>\n",
              "      <th>Decision Tree Classifier with CountVectorizer</th>\n",
              "      <th>Decision Tree Classifier with TfidfVectorizer</th>\n",
              "      <th>Random Forest Classifier with CountVectorizer</th>\n",
              "      <th>Random Forest Classifier with TfidfVectorizer</th>\n",
              "    </tr>\n",
              "  </thead>\n",
              "  <tbody>\n",
              "    <tr>\n",
              "      <th>Accuracy</th>\n",
              "      <td>0.9232</td>\n",
              "      <td>0.9094</td>\n",
              "      <td>0.914</td>\n",
              "      <td>0.9124</td>\n",
              "    </tr>\n",
              "  </tbody>\n",
              "</table>\n",
              "</div>"
            ],
            "text/plain": [
              "          Decision Tree Classifier with CountVectorizer  \\\n",
              "Accuracy                                         0.9232   \n",
              "\n",
              "          Decision Tree Classifier with TfidfVectorizer  \\\n",
              "Accuracy                                         0.9094   \n",
              "\n",
              "          Random Forest Classifier with CountVectorizer  \\\n",
              "Accuracy                                          0.914   \n",
              "\n",
              "          Random Forest Classifier with TfidfVectorizer  \n",
              "Accuracy                                         0.9124  "
            ]
          },
          "execution_count": 22,
          "metadata": {},
          "output_type": "execute_result"
        }
      ],
      "source": [
        "ad={}\n",
        "for i in accuracy:\n",
        "    ad[i] = {\"Accuracy\":accuracy[i]}\n",
        "ad = pd.DataFrame(ad)\n",
        "ad"
      ]
    }
  ],
  "metadata": {
    "colab": {
      "collapsed_sections": [],
      "name": "Decision Tree and Random Forest.ipynb",
      "provenance": []
    },
    "interpreter": {
      "hash": "31f2aee4e71d21fbe5cf8b01ff0e069b9275f58929596ceb00d14d90e3e16cd6"
    },
    "kernelspec": {
      "display_name": "Python 3.8.10 64-bit",
      "name": "python3"
    },
    "language_info": {
      "codemirror_mode": {
        "name": "ipython",
        "version": 3
      },
      "file_extension": ".py",
      "mimetype": "text/x-python",
      "name": "python",
      "nbconvert_exporter": "python",
      "pygments_lexer": "ipython3",
      "version": "3.8.10"
    }
  },
  "nbformat": 4,
  "nbformat_minor": 0
}
