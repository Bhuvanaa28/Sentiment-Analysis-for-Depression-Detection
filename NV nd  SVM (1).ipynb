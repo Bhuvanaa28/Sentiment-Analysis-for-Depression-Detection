{
 "cells": [
  {
   "cell_type": "code",
   "execution_count": 1,
   "metadata": {},
   "outputs": [],
   "source": [
    "import pandas as pd\n",
    "from textblob import TextBlob\n",
    "\n",
    "from sklearn.feature_extraction.text import CountVectorizer\n",
    "from sklearn.feature_extraction.text import TfidfVectorizer"
   ]
  },
  {
   "cell_type": "code",
   "execution_count": 2,
   "metadata": {
    "scrolled": true
   },
   "outputs": [
    {
     "data": {
      "text/html": [
       "<div>\n",
       "<style scoped>\n",
       "    .dataframe tbody tr th:only-of-type {\n",
       "        vertical-align: middle;\n",
       "    }\n",
       "\n",
       "    .dataframe tbody tr th {\n",
       "        vertical-align: top;\n",
       "    }\n",
       "\n",
       "    .dataframe thead th {\n",
       "        text-align: right;\n",
       "    }\n",
       "</style>\n",
       "<table border=\"1\" class=\"dataframe\">\n",
       "  <thead>\n",
       "    <tr style=\"text-align: right;\">\n",
       "      <th></th>\n",
       "      <th>Text</th>\n",
       "    </tr>\n",
       "  </thead>\n",
       "  <tbody>\n",
       "    <tr>\n",
       "      <th>0</th>\n",
       "      <td>account grow difficult keep track people activ...</td>\n",
       "    </tr>\n",
       "    <tr>\n",
       "      <th>1</th>\n",
       "      <td>release lyric video collab song bipolar sunshi...</td>\n",
       "    </tr>\n",
       "    <tr>\n",
       "      <th>2</th>\n",
       "      <td>stargalaxy genuinely cant even imagine second ...</td>\n",
       "    </tr>\n",
       "    <tr>\n",
       "      <th>3</th>\n",
       "      <td>theres call call spark call world always</td>\n",
       "    </tr>\n",
       "    <tr>\n",
       "      <th>4</th>\n",
       "      <td>scary plausible</td>\n",
       "    </tr>\n",
       "    <tr>\n",
       "      <th>5</th>\n",
       "      <td>track trace utterly useless proof covid spread...</td>\n",
       "    </tr>\n",
       "    <tr>\n",
       "      <th>6</th>\n",
       "      <td>camp never lose faith team proud aggie remembe...</td>\n",
       "    </tr>\n",
       "    <tr>\n",
       "      <th>7</th>\n",
       "      <td>bhpv merge bhel say announce lok sabha ncbn lo...</td>\n",
       "    </tr>\n",
       "    <tr>\n",
       "      <th>8</th>\n",
       "      <td>check result last two weeks arround time sum n...</td>\n",
       "    </tr>\n",
       "    <tr>\n",
       "      <th>9</th>\n",
       "      <td>see cabinet minister speak television deep thi...</td>\n",
       "    </tr>\n",
       "  </tbody>\n",
       "</table>\n",
       "</div>"
      ],
      "text/plain": [
       "                                                Text\n",
       "0  account grow difficult keep track people activ...\n",
       "1  release lyric video collab song bipolar sunshi...\n",
       "2  stargalaxy genuinely cant even imagine second ...\n",
       "3           theres call call spark call world always\n",
       "4                                    scary plausible\n",
       "5  track trace utterly useless proof covid spread...\n",
       "6  camp never lose faith team proud aggie remembe...\n",
       "7  bhpv merge bhel say announce lok sabha ncbn lo...\n",
       "8  check result last two weeks arround time sum n...\n",
       "9  see cabinet minister speak television deep thi..."
      ]
     },
     "execution_count": 2,
     "metadata": {},
     "output_type": "execute_result"
    }
   ],
   "source": [
    "d = pd.read_csv(\"processed_tweets.csv\")\n",
    "d = d.drop([\"Unnamed: 0\",\"index\"],axis=1)\n",
    "d = d.rename(columns={\"0\":\"Text\"})\n",
    "d.head(10)"
   ]
  },
  {
   "cell_type": "code",
   "execution_count": 3,
   "metadata": {},
   "outputs": [
    {
     "data": {
      "text/plain": [
       "Text    0\n",
       "dtype: int64"
      ]
     },
     "execution_count": 3,
     "metadata": {},
     "output_type": "execute_result"
    }
   ],
   "source": [
    "d.isna().sum()"
   ]
  },
  {
   "cell_type": "code",
   "execution_count": 4,
   "metadata": {},
   "outputs": [],
   "source": [
    "d.dropna(inplace=True)"
   ]
  },
  {
   "cell_type": "code",
   "execution_count": 5,
   "metadata": {
    "scrolled": true
   },
   "outputs": [
    {
     "name": "stdout",
     "output_type": "stream",
     "text": [
      "<class 'pandas.core.frame.DataFrame'>\n",
      "Int64Index: 6294 entries, 0 to 6293\n",
      "Data columns (total 1 columns):\n",
      " #   Column  Non-Null Count  Dtype \n",
      "---  ------  --------------  ----- \n",
      " 0   Text    6294 non-null   object\n",
      "dtypes: object(1)\n",
      "memory usage: 98.3+ KB\n"
     ]
    }
   ],
   "source": [
    "d.info()"
   ]
  },
  {
   "cell_type": "code",
   "execution_count": 6,
   "metadata": {},
   "outputs": [],
   "source": [
    "n = len(d)\n",
    "d[\"Sentiment\"]=[None for i in range(n)]\n",
    "for i in range(n):\n",
    "    \n",
    "    s = TextBlob(d[\"Text\"].iloc[i]).sentiment\n",
    "    if(s[0]>=0):\n",
    "        d[\"Sentiment\"].iloc[i] = 0\n",
    "    else:\n",
    "        d[\"Sentiment\"].iloc[i] = 1"
   ]
  },
  {
   "cell_type": "code",
   "execution_count": 7,
   "metadata": {},
   "outputs": [
    {
     "data": {
      "text/plain": [
       "(4667, 1627)"
      ]
     },
     "execution_count": 7,
     "metadata": {},
     "output_type": "execute_result"
    }
   ],
   "source": [
    "len(d[d[\"Sentiment\"]==0]), len(d[d[\"Sentiment\"]==1])"
   ]
  },
  {
   "cell_type": "code",
   "execution_count": 8,
   "metadata": {},
   "outputs": [],
   "source": [
    "no = len(d[d[\"Sentiment\"]==1])"
   ]
  },
  {
   "cell_type": "code",
   "execution_count": 9,
   "metadata": {},
   "outputs": [],
   "source": [
    "t = d[d[\"Sentiment\"]==0][:no]\n",
    "s = d[d[\"Sentiment\"]==1]"
   ]
  },
  {
   "cell_type": "code",
   "execution_count": 10,
   "metadata": {},
   "outputs": [
    {
     "data": {
      "text/plain": [
       "3254"
      ]
     },
     "execution_count": 10,
     "metadata": {},
     "output_type": "execute_result"
    }
   ],
   "source": [
    "df = pd.concat([s,t],ignore_index=\"True\")\n",
    "len(df)"
   ]
  },
  {
   "cell_type": "code",
   "execution_count": 11,
   "metadata": {},
   "outputs": [],
   "source": [
    "from sklearn.feature_extraction.text import CountVectorizer\n",
    "from sklearn.feature_extraction.text import TfidfVectorizer\n",
    "\n",
    "x1 = CountVectorizer().fit_transform(df[\"Text\"])\n",
    "x2 = TfidfVectorizer().fit_transform(df[\"Text\"])\n",
    "y = df[\"Sentiment\"]\n",
    "y=y.astype('int')"
   ]
  },
  {
   "cell_type": "code",
   "execution_count": 12,
   "metadata": {},
   "outputs": [],
   "source": [
    "from sklearn.model_selection import train_test_split\n",
    "\n",
    "x_train,x_test, y_train, y_test = train_test_split(x1,y,test_size=0.2,random_state=84)\n",
    "X_train, X_test, Y_train, Y_test = train_test_split(x2,y,test_size=0.2,random_state=84)"
   ]
  },
  {
   "cell_type": "code",
   "execution_count": 13,
   "metadata": {},
   "outputs": [],
   "source": [
    "from sklearn import metrics\n",
    "\n",
    "accuracy = {}"
   ]
  },
  {
   "cell_type": "markdown",
   "metadata": {},
   "source": [
    "# SVM"
   ]
  },
  {
   "cell_type": "markdown",
   "metadata": {},
   "source": [
    "### CountVectorizer"
   ]
  },
  {
   "cell_type": "code",
   "execution_count": 14,
   "metadata": {},
   "outputs": [
    {
     "name": "stdout",
     "output_type": "stream",
     "text": [
      "Support Vector Machine with CountVectorizer\n",
      "Accuracy: 0.8679\n",
      "Recall  : 0.7814\n"
     ]
    }
   ],
   "source": [
    "from sklearn import svm\n",
    "from sklearn import metrics\n",
    "\n",
    "classifier=svm.SVC()\n",
    "classifier.fit(x_train,y_train)\n",
    "y_predict1=classifier.predict(x_test)\n",
    "\n",
    "b1=metrics.accuracy_score(y_test, y_predict1)\n",
    "recall = metrics.recall_score(y_test, y_predict1)\n",
    "x = \"Support Vector Machine with CountVectorizer\"\n",
    "accuracy[x] = b1\n",
    "\n",
    "print(x)\n",
    "print(\"Accuracy: {0:.4f}\".format(b1))\n",
    "print(\"Recall  : {0:.4f}\".format(recall))"
   ]
  },
  {
   "cell_type": "markdown",
   "metadata": {},
   "source": [
    "### TfidfVectorizer"
   ]
  },
  {
   "cell_type": "code",
   "execution_count": 15,
   "metadata": {},
   "outputs": [
    {
     "name": "stdout",
     "output_type": "stream",
     "text": [
      "Support Vector Machine with TfidfVectorizer\n",
      "Accuracy: 0.8786\n",
      "Recall  : 0.7814\n"
     ]
    }
   ],
   "source": [
    "classifier=svm.SVC()\n",
    "classifier.fit(X_train,Y_train)\n",
    "Y_predict1=classifier.predict(X_test)\n",
    "\n",
    "b2=metrics.accuracy_score(Y_test, Y_predict1)\n",
    "recall = metrics.recall_score(y_test, y_predict1)\n",
    "x = \"Support Vector Machine with TfidfVectorizer\"\n",
    "accuracy[x] = b2\n",
    "\n",
    "print(x)\n",
    "print(\"Accuracy: {0:.4f}\".format(b2))\n",
    "print(\"Recall  : {0:.4f}\".format(recall))"
   ]
  },
  {
   "cell_type": "markdown",
   "metadata": {},
   "source": [
    "# Multinomial Naive Bayes"
   ]
  },
  {
   "cell_type": "markdown",
   "metadata": {},
   "source": [
    "### CountVectorizer"
   ]
  },
  {
   "cell_type": "code",
   "execution_count": 16,
   "metadata": {},
   "outputs": [
    {
     "name": "stdout",
     "output_type": "stream",
     "text": [
      "Multinomial Naive Bayes with CountVectorizer\n",
      "Accuracy: 0.5499\n",
      "Recall  : 0.7814\n"
     ]
    }
   ],
   "source": [
    "from sklearn.naive_bayes import MultinomialNB\n",
    "\n",
    "nb = MultinomialNB()\n",
    "nb.fit(x_train,y_train)\n",
    "y_predict2=classifier.predict(x_test)\n",
    "\n",
    "b3=metrics.accuracy_score(y_test, y_predict2)\n",
    "recall = metrics.recall_score(y_test, y_predict1)\n",
    "x = \"Multinomial Naive Bayes with CountVectorizer\"\n",
    "accuracy[x] = b3\n",
    "\n",
    "print(x)\n",
    "print(\"Accuracy: {0:.4f}\".format(b3))\n",
    "print(\"Recall  : {0:.4f}\".format(recall))"
   ]
  },
  {
   "cell_type": "markdown",
   "metadata": {},
   "source": [
    "### TfidfVectorizer"
   ]
  },
  {
   "cell_type": "code",
   "execution_count": 17,
   "metadata": {},
   "outputs": [
    {
     "name": "stdout",
     "output_type": "stream",
     "text": [
      "Multinomial Naive Bayes with TfidfVectorizer\n",
      "Accuracy: 0.8786\n",
      "Recall  : 0.7814\n"
     ]
    }
   ],
   "source": [
    "nb = MultinomialNB()\n",
    "nb.fit(X_train,Y_train)\n",
    "Y_predict2=classifier.predict(X_test)\n",
    "\n",
    "b4=metrics.accuracy_score(Y_test,Y_predict2)\n",
    "recall = metrics.recall_score(y_test, y_predict1)\n",
    "x = \"Multinomial Naive Bayes with TfidfVectorizer\"\n",
    "accuracy[x] = b4\n",
    "\n",
    "print(x)\n",
    "print(\"Accuracy: {0:.4f}\".format(b4))\n",
    "print(\"Recall  : {0:.4f}\".format(recall))"
   ]
  }
 ],
 "metadata": {
  "interpreter": {
   "hash": "31f2aee4e71d21fbe5cf8b01ff0e069b9275f58929596ceb00d14d90e3e16cd6"
  },
  "kernelspec": {
   "display_name": "Python 3",
   "language": "python",
   "name": "python3"
  },
  "language_info": {
   "codemirror_mode": {
    "name": "ipython",
    "version": 3
   },
   "file_extension": ".py",
   "mimetype": "text/x-python",
   "name": "python",
   "nbconvert_exporter": "python",
   "pygments_lexer": "ipython3",
   "version": "3.8.8"
  }
 },
 "nbformat": 4,
 "nbformat_minor": 2
}
